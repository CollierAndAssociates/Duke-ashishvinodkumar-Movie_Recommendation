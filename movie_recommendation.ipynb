{
 "cells": [
  {
   "cell_type": "code",
   "execution_count": 1,
   "metadata": {},
   "outputs": [],
   "source": [
    "import pyspark\n",
    "from pyspark.sql.functions import *\n",
    "from pyspark.sql.types import *"
   ]
  },
  {
   "cell_type": "code",
   "execution_count": 2,
   "metadata": {
    "scrolled": true
   },
   "outputs": [],
   "source": [
    "df = spark.read.csv(\"gs://706_final_project_bucket/movies_metadata.csv\", inferSchema = True, header = True)"
   ]
  },
  {
   "cell_type": "code",
   "execution_count": 3,
   "metadata": {},
   "outputs": [],
   "source": [
    "df.registerTempTable(\"movie_metadata\")"
   ]
  },
  {
   "cell_type": "code",
   "execution_count": 4,
   "metadata": {},
   "outputs": [
    {
     "data": {
      "text/plain": [
       "['id',\n",
       " 'imdb_id',\n",
       " 'overview',\n",
       " 'popularity',\n",
       " 'revenue',\n",
       " 'tagline',\n",
       " 'title',\n",
       " 'vote_average',\n",
       " 'vote_count']"
      ]
     },
     "execution_count": 4,
     "metadata": {},
     "output_type": "execute_result"
    }
   ],
   "source": [
    "df.columns"
   ]
  },
  {
   "cell_type": "code",
   "execution_count": 6,
   "metadata": {},
   "outputs": [
    {
     "name": "stdout",
     "output_type": "stream",
     "text": [
      "+-----+---------+--------------------+----------+--------------------+--------------------+--------------------+------------+--------------------+\n",
      "|   id|  imdb_id|            overview|popularity|             revenue|             tagline|               title|vote_average|          vote_count|\n",
      "+-----+---------+--------------------+----------+--------------------+--------------------+--------------------+------------+--------------------+\n",
      "|  862|tt0114709|Led by Woody, And...| 21.946943|           373554033|                null|           Toy Story|         7.7|                5415|\n",
      "| 8844|tt0113497|When siblings Jud...| 17.015539|           262797249|Roll the dice and...|             Jumanji|         6.9|                2413|\n",
      "|15602|tt0113228|A family wedding ...|   11.7129|                   0|Still Yelling. St...|    Grumpier Old Men|         6.5|                  92|\n",
      "|31357|tt0114885|\"Cheated on, mist...|    Bernie| Glo and Robin ta...| determined to fi...|            3.859495|    81452156|Friends are the p...|\n",
      "|11862|tt0113041|Just when George ...|  8.387519|            76578911|Just When His Wor...|Father of the Bri...|         5.7|                 173|\n",
      "|  949|tt0113277|Obsessive master ...| 17.924927|           187436818|A Los Angeles Cri...|                Heat|         7.7|                1886|\n",
      "|11860|tt0114319|An ugly duckling ...|  6.677277|                   0|You are cordially...|             Sabrina|         6.2|                 141|\n",
      "|45325|tt0112302|A mischievous you...|  2.561161|                   0|The Original Bad ...|        Tom and Huck|         5.4|                  45|\n",
      "| 9091|tt0114576|International act...|   5.23158|            64350171|Terror goes into ...|        Sudden Death|         5.5|                 174|\n",
      "|  710|tt0113189|James Bond must u...| 14.686036|           352194034|No limits. No fea...|           GoldenEye|         6.6|                1194|\n",
      "| 9087|tt0112346|Widowed U.S. pres...|  6.318445|           107879496|Why can't the mos...|The American Pres...|         6.5|                 199|\n",
      "|12110|tt0112896|When a lawyer sho...|  5.430331|                   0|                null|Dracula: Dead and...|         5.7|                 210|\n",
      "|21032|tt0112453|An outcast half-w...| 12.140733|            11348324|Part Dog. Part Wo...|               Balto|         7.1|                 423|\n",
      "|10858|tt0113987|An all-star cast ...|     5.092|            13681765|Triumphant in Vic...|               Nixon|         7.1|                  72|\n",
      "| 1408|tt0112760|Morgan Adams and ...|  7.284477|            10017322|The Course Has Be...|    Cutthroat Island|         5.7|                 137|\n",
      "|  524|tt0112641|The life of the g...| 10.137389|           116112375|No one stays at t...|              Casino|         7.8|                1343|\n",
      "| 4584|tt0114388|Rich Mr. Dashwood...| 10.673167|           135000000|Lose your heart a...|Sense and Sensibi...|         7.2|                 364|\n",
      "|    5|tt0113101|It's Ted the Bell...|  9.026586|             4300000|Twelve outrageous...|          Four Rooms|         6.5|                 539|\n",
      "| 9273|tt0112281|Summoned from an ...|  8.205448|           212385533|New animals. New ...|Ace Ventura: When...|         6.1|                1128|\n",
      "|11517|tt0113845|A vengeful New Yo...|  7.337906|            35431113|Get on, or GET OU...|         Money Train|         5.4|                 224|\n",
      "+-----+---------+--------------------+----------+--------------------+--------------------+--------------------+------------+--------------------+\n",
      "only showing top 20 rows\n",
      "\n"
     ]
    }
   ],
   "source": [
    "spark.sql(\"\"\"\n",
    "\n",
    "select * \n",
    "from movie_metadata\n",
    "\n",
    "\"\"\").show()"
   ]
  },
  {
   "cell_type": "code",
   "execution_count": null,
   "metadata": {},
   "outputs": [],
   "source": []
  }
 ],
 "metadata": {
  "kernelspec": {
   "display_name": "PySpark",
   "language": "python",
   "name": "pyspark"
  },
  "language_info": {
   "codemirror_mode": {
    "name": "ipython",
    "version": 2
   },
   "file_extension": ".py",
   "mimetype": "text/x-python",
   "name": "python",
   "nbconvert_exporter": "python",
   "pygments_lexer": "ipython2",
   "version": "2.7.14"
  }
 },
 "nbformat": 4,
 "nbformat_minor": 2
}
