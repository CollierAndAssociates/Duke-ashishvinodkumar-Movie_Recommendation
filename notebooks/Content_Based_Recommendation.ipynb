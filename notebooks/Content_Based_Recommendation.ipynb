{
 "cells": [
  {
   "cell_type": "markdown",
   "metadata": {},
   "source": [
    "# Content Based Movie Recommendation"
   ]
  },
  {
   "cell_type": "code",
   "execution_count": 1,
   "metadata": {},
   "outputs": [],
   "source": [
    "import numpy as np\n",
    "import pandas as pd\n",
    "import re\n",
    "pd.set_option('display.max_columns', None)\n",
    "from sklearn.feature_extraction.text import TfidfVectorizer\n",
    "from sklearn.decomposition import TruncatedSVD\n",
    "from sklearn import metrics\n",
    "from scipy.sparse import csr_matrix"
   ]
  },
  {
   "cell_type": "markdown",
   "metadata": {},
   "source": [
    "### Import Dataset"
   ]
  },
  {
   "cell_type": "code",
   "execution_count": 2,
   "metadata": {},
   "outputs": [],
   "source": [
    "# Import movie dataset (combined metadata), subset the data to 10k rows for computational conviencies\n",
    "whole_df = pd.read_csv('combined_metadata_table.csv')"
   ]
  },
  {
   "cell_type": "markdown",
   "metadata": {},
   "source": [
    "### Pick A Movie (Fake Search Engine)"
   ]
  },
  {
   "cell_type": "code",
   "execution_count": 3,
   "metadata": {},
   "outputs": [],
   "source": [
    "def identify_movie(your_pick, whole_df):\n",
    "    return whole_df[whole_df['title'].str.contains(your_pick, flags=re.IGNORECASE, regex=True)]"
   ]
  },
  {
   "cell_type": "code",
   "execution_count": 4,
   "metadata": {},
   "outputs": [
    {
     "data": {
      "text/html": [
       "<div>\n",
       "<style scoped>\n",
       "    .dataframe tbody tr th:only-of-type {\n",
       "        vertical-align: middle;\n",
       "    }\n",
       "\n",
       "    .dataframe tbody tr th {\n",
       "        vertical-align: top;\n",
       "    }\n",
       "\n",
       "    .dataframe thead th {\n",
       "        text-align: right;\n",
       "    }\n",
       "</style>\n",
       "<table border=\"1\" class=\"dataframe\">\n",
       "  <thead>\n",
       "    <tr style=\"text-align: right;\">\n",
       "      <th></th>\n",
       "      <th>imdb_title_id</th>\n",
       "      <th>title</th>\n",
       "      <th>original_title</th>\n",
       "      <th>year</th>\n",
       "      <th>date_published</th>\n",
       "      <th>genre</th>\n",
       "      <th>duration</th>\n",
       "      <th>country</th>\n",
       "      <th>language</th>\n",
       "      <th>director</th>\n",
       "      <th>writer</th>\n",
       "      <th>production_company</th>\n",
       "      <th>actors</th>\n",
       "      <th>description</th>\n",
       "      <th>avg_vote</th>\n",
       "      <th>votes</th>\n",
       "      <th>metascore</th>\n",
       "      <th>reviews_from_users</th>\n",
       "      <th>reviews_from_critics</th>\n",
       "      <th>id</th>\n",
       "      <th>overview</th>\n",
       "      <th>popularity</th>\n",
       "      <th>revenue</th>\n",
       "      <th>tagline</th>\n",
       "    </tr>\n",
       "  </thead>\n",
       "  <tbody>\n",
       "    <tr>\n",
       "      <th>28682</th>\n",
       "      <td>tt1074638</td>\n",
       "      <td>Skyfall</td>\n",
       "      <td>Skyfall</td>\n",
       "      <td>2012</td>\n",
       "      <td>10/26/12</td>\n",
       "      <td>Action, Adventure, Thriller</td>\n",
       "      <td>143</td>\n",
       "      <td>UK, USA</td>\n",
       "      <td>English, Turkish, Shanghainese, Portuguese, Ja...</td>\n",
       "      <td>Sam Mendes</td>\n",
       "      <td>Neal Purvis, Robert Wade</td>\n",
       "      <td>Eon Productions</td>\n",
       "      <td>Daniel Craig, Judi Dench, Javier Bardem, Ralph...</td>\n",
       "      <td>Bond's loyalty to M is tested when her past co...</td>\n",
       "      <td>7.7</td>\n",
       "      <td>600350</td>\n",
       "      <td>81.0</td>\n",
       "      <td>1549.0</td>\n",
       "      <td>726.0</td>\n",
       "      <td>37724</td>\n",
       "      <td>When Bond's latest assignment goes gravely wro...</td>\n",
       "      <td>20.309585</td>\n",
       "      <td>1.108561e+09</td>\n",
       "      <td>Think on your sins.</td>\n",
       "    </tr>\n",
       "  </tbody>\n",
       "</table>\n",
       "</div>"
      ],
      "text/plain": [
       "      imdb_title_id    title original_title  year date_published  \\\n",
       "28682     tt1074638  Skyfall        Skyfall  2012       10/26/12   \n",
       "\n",
       "                             genre  duration  country  \\\n",
       "28682  Action, Adventure, Thriller       143  UK, USA   \n",
       "\n",
       "                                                language    director  \\\n",
       "28682  English, Turkish, Shanghainese, Portuguese, Ja...  Sam Mendes   \n",
       "\n",
       "                         writer production_company  \\\n",
       "28682  Neal Purvis, Robert Wade    Eon Productions   \n",
       "\n",
       "                                                  actors  \\\n",
       "28682  Daniel Craig, Judi Dench, Javier Bardem, Ralph...   \n",
       "\n",
       "                                             description  avg_vote   votes  \\\n",
       "28682  Bond's loyalty to M is tested when her past co...       7.7  600350   \n",
       "\n",
       "       metascore  reviews_from_users  reviews_from_critics     id  \\\n",
       "28682       81.0              1549.0                 726.0  37724   \n",
       "\n",
       "                                                overview  popularity  \\\n",
       "28682  When Bond's latest assignment goes gravely wro...   20.309585   \n",
       "\n",
       "            revenue              tagline  \n",
       "28682  1.108561e+09  Think on your sins.  "
      ]
     },
     "execution_count": 4,
     "metadata": {},
     "output_type": "execute_result"
    }
   ],
   "source": [
    "your_pick = 'Skyfall'\n",
    "identify_movie(your_pick, whole_df)"
   ]
  },
  {
   "cell_type": "markdown",
   "metadata": {},
   "source": [
    "### Subset Dataset"
   ]
  },
  {
   "cell_type": "code",
   "execution_count": 5,
   "metadata": {},
   "outputs": [],
   "source": [
    "def subset_by_genre(your_pick, whole_df):\n",
    "    genres = whole_df[whole_df['title'] == your_pick]['genre']\n",
    "    genres = list(genres)[0].split(', ')\n",
    "    masks = []\n",
    "    for genre in genres:\n",
    "        mask = whole_df['genre'].str.contains(genre)\n",
    "        masks.append(mask)\n",
    "    mask = masks[0]\n",
    "    for i in range(1,len(masks)):\n",
    "        mask = mask | masks[i]\n",
    "    return whole_df[mask]"
   ]
  },
  {
   "cell_type": "code",
   "execution_count": 6,
   "metadata": {},
   "outputs": [],
   "source": [
    "def subset_by_year(your_pick, whole_df, year_range=30):\n",
    "    year = whole_df[whole_df['title'] == your_pick]['year']\n",
    "    year = list(year)[0]\n",
    "    window = [year-year_range, year+year_range]\n",
    "    mask = (whole_df['year'] >= window[0]) & (whole_df['year'] <= window[1])\n",
    "    return whole_df[mask]"
   ]
  },
  {
   "cell_type": "code",
   "execution_count": 7,
   "metadata": {},
   "outputs": [],
   "source": [
    "def subset_by_language(your_pick, whole_df):\n",
    "    languages = whole_df[whole_df['title'] == your_pick]['language']\n",
    "    languages = list(languages)[0].split(', ')\n",
    "    masks = []\n",
    "    for language in languages:\n",
    "        mask = whole_df['language'].str.contains(language)\n",
    "        masks.append(mask)\n",
    "    mask = masks[0]\n",
    "    for i in range(1,len(masks)):\n",
    "        mask = mask | masks[i]\n",
    "    return whole_df[mask]"
   ]
  },
  {
   "cell_type": "code",
   "execution_count": 8,
   "metadata": {},
   "outputs": [],
   "source": [
    "subset_df = subset_by_genre(your_pick, whole_df)\n",
    "source = subset_by_year(your_pick, subset_df)\n",
    "#source = subset_by_language(your_pick, source)"
   ]
  },
  {
   "cell_type": "code",
   "execution_count": 9,
   "metadata": {},
   "outputs": [
    {
     "name": "stdout",
     "output_type": "stream",
     "text": [
      "Subset Size: 8359\n"
     ]
    },
    {
     "data": {
      "text/html": [
       "<div>\n",
       "<style scoped>\n",
       "    .dataframe tbody tr th:only-of-type {\n",
       "        vertical-align: middle;\n",
       "    }\n",
       "\n",
       "    .dataframe tbody tr th {\n",
       "        vertical-align: top;\n",
       "    }\n",
       "\n",
       "    .dataframe thead th {\n",
       "        text-align: right;\n",
       "    }\n",
       "</style>\n",
       "<table border=\"1\" class=\"dataframe\">\n",
       "  <thead>\n",
       "    <tr style=\"text-align: right;\">\n",
       "      <th></th>\n",
       "      <th>imdb_title_id</th>\n",
       "      <th>title</th>\n",
       "      <th>original_title</th>\n",
       "      <th>year</th>\n",
       "      <th>date_published</th>\n",
       "      <th>genre</th>\n",
       "      <th>duration</th>\n",
       "      <th>country</th>\n",
       "      <th>language</th>\n",
       "      <th>director</th>\n",
       "      <th>writer</th>\n",
       "      <th>production_company</th>\n",
       "      <th>actors</th>\n",
       "      <th>description</th>\n",
       "      <th>avg_vote</th>\n",
       "      <th>votes</th>\n",
       "      <th>metascore</th>\n",
       "      <th>reviews_from_users</th>\n",
       "      <th>reviews_from_critics</th>\n",
       "      <th>id</th>\n",
       "      <th>overview</th>\n",
       "      <th>popularity</th>\n",
       "      <th>revenue</th>\n",
       "      <th>tagline</th>\n",
       "    </tr>\n",
       "  </thead>\n",
       "  <tbody>\n",
       "    <tr>\n",
       "      <th>10542</th>\n",
       "      <td>tt0083693</td>\n",
       "      <td>Brimstone &amp; Treacle</td>\n",
       "      <td>Brimstone &amp; Treacle</td>\n",
       "      <td>1982</td>\n",
       "      <td>2/2/83</td>\n",
       "      <td>Drama, Thriller</td>\n",
       "      <td>87</td>\n",
       "      <td>UK</td>\n",
       "      <td>English</td>\n",
       "      <td>Richard Loncraine</td>\n",
       "      <td>Dennis Potter, Dennis Potter</td>\n",
       "      <td>Namara Films</td>\n",
       "      <td>Sting, Denholm Elliott, Joan Plowright, Suzann...</td>\n",
       "      <td>A strange young man has a sinister effect on t...</td>\n",
       "      <td>6.4</td>\n",
       "      <td>1291</td>\n",
       "      <td>NaN</td>\n",
       "      <td>18.0</td>\n",
       "      <td>8.0</td>\n",
       "      <td>73116</td>\n",
       "      <td>A strange young man has a sinister effect on t...</td>\n",
       "      <td>0.620534</td>\n",
       "      <td>0.0</td>\n",
       "      <td>NaN</td>\n",
       "    </tr>\n",
       "    <tr>\n",
       "      <th>10549</th>\n",
       "      <td>tt0084786</td>\n",
       "      <td>They Call Me Bruce?</td>\n",
       "      <td>They Call Me Bruce?</td>\n",
       "      <td>1982</td>\n",
       "      <td>11/12/82</td>\n",
       "      <td>Comedy, Action</td>\n",
       "      <td>87</td>\n",
       "      <td>USA</td>\n",
       "      <td>English</td>\n",
       "      <td>Elliott Hong</td>\n",
       "      <td>David Randolph, Johnny Yune</td>\n",
       "      <td>Goldpine Productions</td>\n",
       "      <td>Johnny Yune, Margaux Hemingway, Raf Mauro, Pam...</td>\n",
       "      <td>A goofy Korean finds his life hopelessly compl...</td>\n",
       "      <td>5.7</td>\n",
       "      <td>1308</td>\n",
       "      <td>NaN</td>\n",
       "      <td>26.0</td>\n",
       "      <td>7.0</td>\n",
       "      <td>24830</td>\n",
       "      <td>Get set for all the zany fun in this hilarious...</td>\n",
       "      <td>1.223424</td>\n",
       "      <td>16894678.0</td>\n",
       "      <td>A chopstick comedy!</td>\n",
       "    </tr>\n",
       "    <tr>\n",
       "      <th>10553</th>\n",
       "      <td>tt0083511</td>\n",
       "      <td>48 Hrs.</td>\n",
       "      <td>48 Hrs.</td>\n",
       "      <td>1982</td>\n",
       "      <td>6/24/83</td>\n",
       "      <td>Action, Comedy, Crime</td>\n",
       "      <td>96</td>\n",
       "      <td>USA</td>\n",
       "      <td>English</td>\n",
       "      <td>Walter Hill</td>\n",
       "      <td>Roger Spottiswoode, Walter Hill</td>\n",
       "      <td>Paramount Pictures</td>\n",
       "      <td>Nick Nolte, Eddie Murphy, Annette O'Toole, Fra...</td>\n",
       "      <td>A hard-nosed cop reluctantly teams up with a w...</td>\n",
       "      <td>6.9</td>\n",
       "      <td>64318</td>\n",
       "      <td>71.0</td>\n",
       "      <td>131.0</td>\n",
       "      <td>88.0</td>\n",
       "      <td>150</td>\n",
       "      <td>A hard-nosed cop reluctantly teams up with a w...</td>\n",
       "      <td>15.297121</td>\n",
       "      <td>78868508.0</td>\n",
       "      <td>One Cop. One Con. No Mercy.</td>\n",
       "    </tr>\n",
       "  </tbody>\n",
       "</table>\n",
       "</div>"
      ],
      "text/plain": [
       "      imdb_title_id                title       original_title  year  \\\n",
       "10542     tt0083693  Brimstone & Treacle  Brimstone & Treacle  1982   \n",
       "10549     tt0084786  They Call Me Bruce?  They Call Me Bruce?  1982   \n",
       "10553     tt0083511              48 Hrs.              48 Hrs.  1982   \n",
       "\n",
       "      date_published                  genre  duration country language  \\\n",
       "10542         2/2/83        Drama, Thriller        87      UK  English   \n",
       "10549       11/12/82         Comedy, Action        87     USA  English   \n",
       "10553        6/24/83  Action, Comedy, Crime        96     USA  English   \n",
       "\n",
       "                director                           writer  \\\n",
       "10542  Richard Loncraine     Dennis Potter, Dennis Potter   \n",
       "10549       Elliott Hong      David Randolph, Johnny Yune   \n",
       "10553        Walter Hill  Roger Spottiswoode, Walter Hill   \n",
       "\n",
       "         production_company  \\\n",
       "10542          Namara Films   \n",
       "10549  Goldpine Productions   \n",
       "10553    Paramount Pictures   \n",
       "\n",
       "                                                  actors  \\\n",
       "10542  Sting, Denholm Elliott, Joan Plowright, Suzann...   \n",
       "10549  Johnny Yune, Margaux Hemingway, Raf Mauro, Pam...   \n",
       "10553  Nick Nolte, Eddie Murphy, Annette O'Toole, Fra...   \n",
       "\n",
       "                                             description  avg_vote  votes  \\\n",
       "10542  A strange young man has a sinister effect on t...       6.4   1291   \n",
       "10549  A goofy Korean finds his life hopelessly compl...       5.7   1308   \n",
       "10553  A hard-nosed cop reluctantly teams up with a w...       6.9  64318   \n",
       "\n",
       "       metascore  reviews_from_users  reviews_from_critics     id  \\\n",
       "10542        NaN                18.0                   8.0  73116   \n",
       "10549        NaN                26.0                   7.0  24830   \n",
       "10553       71.0               131.0                  88.0    150   \n",
       "\n",
       "                                                overview  popularity  \\\n",
       "10542  A strange young man has a sinister effect on t...    0.620534   \n",
       "10549  Get set for all the zany fun in this hilarious...    1.223424   \n",
       "10553  A hard-nosed cop reluctantly teams up with a w...   15.297121   \n",
       "\n",
       "          revenue                      tagline  \n",
       "10542         0.0                          NaN  \n",
       "10549  16894678.0          A chopstick comedy!  \n",
       "10553  78868508.0  One Cop. One Con. No Mercy.  "
      ]
     },
     "execution_count": 9,
     "metadata": {},
     "output_type": "execute_result"
    }
   ],
   "source": [
    "print('Subset Size:', source.shape[0])\n",
    "source.head(3)"
   ]
  },
  {
   "cell_type": "markdown",
   "metadata": {},
   "source": [
    "### Data Processing"
   ]
  },
  {
   "cell_type": "code",
   "execution_count": 10,
   "metadata": {},
   "outputs": [],
   "source": [
    "# Delete spaces in names to make names more unique\n",
    "# eg. 'firstname lastname' -> 'firstnamelastname'\n",
    "column_with_names = ['director', 'writer', 'production_company', 'actors']\n",
    "source = source.copy()\n",
    "for col in column_with_names:\n",
    "    source[str(col)] = source[str(col)].str.replace(' ', '', regex=True)\n",
    "    source[str(col)] = source[str(col)].str.replace(',', ' ', regex=True)"
   ]
  },
  {
   "cell_type": "markdown",
   "metadata": {},
   "source": [
    "### Compute TFIDF"
   ]
  },
  {
   "cell_type": "code",
   "execution_count": 11,
   "metadata": {},
   "outputs": [],
   "source": [
    "# Suggestion: remove the spaces for the names, to solving clustering ambiguity\n",
    "# Issue: how to deal with numbers ???\n",
    "columns = ['country', 'director','writer', \n",
    "           'production_company', 'actors',\n",
    "           'description','overview', 'tagline']"
   ]
  },
  {
   "cell_type": "code",
   "execution_count": 12,
   "metadata": {},
   "outputs": [],
   "source": [
    "# Converts the source dataframe into single string for tfidf computation\n",
    "df = {}\n",
    "movies = []\n",
    "titles = []\n",
    "imdbid = []\n",
    "for i in range(source.shape[0]):\n",
    "    row = source.iloc[i]\n",
    "    row_str = ''\n",
    "    titles.append(row['title'])\n",
    "    imdbid.append(row['imdb_title_id'])\n",
    "    for column in columns:\n",
    "        row_str += str(row[column])\n",
    "        row_str += ' '\n",
    "    movies.append(row_str)\n",
    "\n",
    "df['IMDBid'] = imdbid\n",
    "df['Title'] = titles\n",
    "df['Content'] = movies\n",
    "df = pd.DataFrame(df)"
   ]
  },
  {
   "cell_type": "code",
   "execution_count": 13,
   "metadata": {},
   "outputs": [
    {
     "data": {
      "text/html": [
       "<div>\n",
       "<style scoped>\n",
       "    .dataframe tbody tr th:only-of-type {\n",
       "        vertical-align: middle;\n",
       "    }\n",
       "\n",
       "    .dataframe tbody tr th {\n",
       "        vertical-align: top;\n",
       "    }\n",
       "\n",
       "    .dataframe thead th {\n",
       "        text-align: right;\n",
       "    }\n",
       "</style>\n",
       "<table border=\"1\" class=\"dataframe\">\n",
       "  <thead>\n",
       "    <tr style=\"text-align: right;\">\n",
       "      <th></th>\n",
       "      <th>IMDBid</th>\n",
       "      <th>Title</th>\n",
       "      <th>Content</th>\n",
       "    </tr>\n",
       "  </thead>\n",
       "  <tbody>\n",
       "    <tr>\n",
       "      <th>0</th>\n",
       "      <td>tt0083693</td>\n",
       "      <td>Brimstone &amp; Treacle</td>\n",
       "      <td>UK RichardLoncraine DennisPotter DennisPotter ...</td>\n",
       "    </tr>\n",
       "    <tr>\n",
       "      <th>1</th>\n",
       "      <td>tt0084786</td>\n",
       "      <td>They Call Me Bruce?</td>\n",
       "      <td>USA ElliottHong DavidRandolph JohnnyYune Goldp...</td>\n",
       "    </tr>\n",
       "    <tr>\n",
       "      <th>2</th>\n",
       "      <td>tt0083511</td>\n",
       "      <td>48 Hrs.</td>\n",
       "      <td>USA WalterHill RogerSpottiswoode WalterHill Pa...</td>\n",
       "    </tr>\n",
       "    <tr>\n",
       "      <th>3</th>\n",
       "      <td>tt0083741</td>\n",
       "      <td>Cold River</td>\n",
       "      <td>USA FredG.Sullivan WilliamJudson FredG.Sulliva...</td>\n",
       "    </tr>\n",
       "    <tr>\n",
       "      <th>4</th>\n",
       "      <td>tt0084704</td>\n",
       "      <td>The Soldier</td>\n",
       "      <td>USA JamesGlickenhaus JamesGlickenhaus JamesGli...</td>\n",
       "    </tr>\n",
       "  </tbody>\n",
       "</table>\n",
       "</div>"
      ],
      "text/plain": [
       "      IMDBid                Title  \\\n",
       "0  tt0083693  Brimstone & Treacle   \n",
       "1  tt0084786  They Call Me Bruce?   \n",
       "2  tt0083511              48 Hrs.   \n",
       "3  tt0083741           Cold River   \n",
       "4  tt0084704          The Soldier   \n",
       "\n",
       "                                             Content  \n",
       "0  UK RichardLoncraine DennisPotter DennisPotter ...  \n",
       "1  USA ElliottHong DavidRandolph JohnnyYune Goldp...  \n",
       "2  USA WalterHill RogerSpottiswoode WalterHill Pa...  \n",
       "3  USA FredG.Sullivan WilliamJudson FredG.Sulliva...  \n",
       "4  USA JamesGlickenhaus JamesGlickenhaus JamesGli...  "
      ]
     },
     "execution_count": 13,
     "metadata": {},
     "output_type": "execute_result"
    }
   ],
   "source": [
    "df.head()"
   ]
  },
  {
   "cell_type": "code",
   "execution_count": 14,
   "metadata": {},
   "outputs": [
    {
     "name": "stdout",
     "output_type": "stream",
     "text": [
      "X shape: (8359, 113241)\n"
     ]
    }
   ],
   "source": [
    "# Tranform to tfidf space\n",
    "V = TfidfVectorizer()\n",
    "X = V.fit_transform(df['Content'])\n",
    "print('X shape:', X.shape)"
   ]
  },
  {
   "cell_type": "markdown",
   "metadata": {},
   "source": [
    "### Compute Similarity"
   ]
  },
  {
   "cell_type": "code",
   "execution_count": 15,
   "metadata": {},
   "outputs": [
    {
     "data": {
      "text/plain": [
       "\"\\n# Dimensionality reduction\\nsvd = TruncatedSVD(n_components=10)\\nX = svd.fit_transform(X)\\nprint('X shape after SVD:', X.shape)\\n\\n\\n# Compute similarity of movie for SVD\\nindex = df[df['Title'] == your_pick].index[0]\\nd1 = X[index]\\nmag_d1 = np.linalg.norm(d1)\\ndist = []\\nfor i in range(X.shape[0]):\\n    row = X[i]\\n    dot_product_xy = np.dot(d1, row)\\n    mag_row = np.linalg.norm(row)\\n    x_time_y = mag_d1 * mag_row\\n    dist.append(dot_product_xy/x_time_y) \\ndist_series = pd.Series(dist)\\ndist_series = dist_series.sort_values(ascending=False)\\ndist_series.iloc[1:6]\\ndist_series = pd.DataFrame(dist_series)\\n\""
      ]
     },
     "execution_count": 15,
     "metadata": {},
     "output_type": "execute_result"
    }
   ],
   "source": [
    "'''\n",
    "# Dimensionality reduction\n",
    "svd = TruncatedSVD(n_components=10)\n",
    "X = svd.fit_transform(X)\n",
    "print('X shape after SVD:', X.shape)\n",
    "\n",
    "\n",
    "# Compute similarity of movie for SVD\n",
    "index = df[df['Title'] == your_pick].index[0]\n",
    "d1 = X[index]\n",
    "mag_d1 = np.linalg.norm(d1)\n",
    "dist = []\n",
    "for i in range(X.shape[0]):\n",
    "    row = X[i]\n",
    "    dot_product_xy = np.dot(d1, row)\n",
    "    mag_row = np.linalg.norm(row)\n",
    "    x_time_y = mag_d1 * mag_row\n",
    "    dist.append(dot_product_xy/x_time_y) \n",
    "dist_series = pd.Series(dist)\n",
    "dist_series = dist_series.sort_values(ascending=False)\n",
    "dist_series.iloc[1:6]\n",
    "dist_series = pd.DataFrame(dist_series)\n",
    "'''"
   ]
  },
  {
   "cell_type": "code",
   "execution_count": 16,
   "metadata": {},
   "outputs": [],
   "source": [
    "# Compute similarity of movie: Melvin and Howard\n",
    "index = df[df['Title'] == your_pick].index[0]\n",
    "d1 = list(csr_matrix.toarray(X[index]))\n",
    "mag_d1 = np.linalg.norm(d1)\n",
    "dist = []\n",
    "for i in range(X.shape[0]):\n",
    "    row = list(csr_matrix.toarray(X[i]))\n",
    "    dot_product_xy = np.multiply(d1, row).sum(1)\n",
    "    mag_row = np.linalg.norm(row)\n",
    "    x_time_y = mag_d1 * mag_row\n",
    "    dist.append(dot_product_xy/x_time_y) \n",
    "dist_series = pd.Series(dist)\n",
    "dist_series = dist_series.sort_values(ascending=False)\n",
    "dist_series.iloc[1:6]\n",
    "dist_series = pd.DataFrame(dist_series)"
   ]
  },
  {
   "cell_type": "markdown",
   "metadata": {},
   "source": [
    "### Recommend Top 5 Movies"
   ]
  },
  {
   "cell_type": "code",
   "execution_count": 17,
   "metadata": {},
   "outputs": [],
   "source": [
    "# Merge similarity scores with original dataframe to visualize\n",
    "result = pd.merge(dist_series, df, how='inner', left_index=True, right_index=True)\n",
    "result = result.rename({0: 'Cosine Similarity Score'}, axis='columns')"
   ]
  },
  {
   "cell_type": "code",
   "execution_count": 18,
   "metadata": {},
   "outputs": [
    {
     "data": {
      "text/html": [
       "<div>\n",
       "<style scoped>\n",
       "    .dataframe tbody tr th:only-of-type {\n",
       "        vertical-align: middle;\n",
       "    }\n",
       "\n",
       "    .dataframe tbody tr th {\n",
       "        vertical-align: top;\n",
       "    }\n",
       "\n",
       "    .dataframe thead th {\n",
       "        text-align: right;\n",
       "    }\n",
       "</style>\n",
       "<table border=\"1\" class=\"dataframe\">\n",
       "  <thead>\n",
       "    <tr style=\"text-align: right;\">\n",
       "      <th></th>\n",
       "      <th>Cosine Similarity Score</th>\n",
       "      <th>IMDBid</th>\n",
       "      <th>Title</th>\n",
       "      <th>Content</th>\n",
       "    </tr>\n",
       "  </thead>\n",
       "  <tbody>\n",
       "    <tr>\n",
       "      <th>6069</th>\n",
       "      <td>[1.0]</td>\n",
       "      <td>tt1074638</td>\n",
       "      <td>Skyfall</td>\n",
       "      <td>UK, USA SamMendes NealPurvis RobertWade EonPro...</td>\n",
       "    </tr>\n",
       "    <tr>\n",
       "      <th>7589</th>\n",
       "      <td>[0.23768025689893485]</td>\n",
       "      <td>tt2379713</td>\n",
       "      <td>Spectre</td>\n",
       "      <td>UK, USA SamMendes JohnLogan NealPurvis B24 Dan...</td>\n",
       "    </tr>\n",
       "    <tr>\n",
       "      <th>190</th>\n",
       "      <td>[0.20872375889872066]</td>\n",
       "      <td>tt0086006</td>\n",
       "      <td>Never Say Never Again</td>\n",
       "      <td>UK, USA, West Germany IrvinKershner KevinMcClo...</td>\n",
       "    </tr>\n",
       "    <tr>\n",
       "      <th>4519</th>\n",
       "      <td>[0.1858382296061858]</td>\n",
       "      <td>tt0830515</td>\n",
       "      <td>Quantum of Solace</td>\n",
       "      <td>UK, USA MarcForster PaulHaggis NealPurvis Metr...</td>\n",
       "    </tr>\n",
       "    <tr>\n",
       "      <th>4024</th>\n",
       "      <td>[0.16730066255531495]</td>\n",
       "      <td>tt0381061</td>\n",
       "      <td>Casino Royale</td>\n",
       "      <td>UK, Czech Republic, USA, Germany, Bahamas Mart...</td>\n",
       "    </tr>\n",
       "    <tr>\n",
       "      <th>2924</th>\n",
       "      <td>[0.14985118325489172]</td>\n",
       "      <td>tt0246460</td>\n",
       "      <td>Die Another Day</td>\n",
       "      <td>UK, USA LeeTamahori IanFleming NealPurvis EonP...</td>\n",
       "    </tr>\n",
       "  </tbody>\n",
       "</table>\n",
       "</div>"
      ],
      "text/plain": [
       "     Cosine Similarity Score     IMDBid                  Title  \\\n",
       "6069                   [1.0]  tt1074638                Skyfall   \n",
       "7589   [0.23768025689893485]  tt2379713                Spectre   \n",
       "190    [0.20872375889872066]  tt0086006  Never Say Never Again   \n",
       "4519    [0.1858382296061858]  tt0830515      Quantum of Solace   \n",
       "4024   [0.16730066255531495]  tt0381061          Casino Royale   \n",
       "2924   [0.14985118325489172]  tt0246460        Die Another Day   \n",
       "\n",
       "                                                Content  \n",
       "6069  UK, USA SamMendes NealPurvis RobertWade EonPro...  \n",
       "7589  UK, USA SamMendes JohnLogan NealPurvis B24 Dan...  \n",
       "190   UK, USA, West Germany IrvinKershner KevinMcClo...  \n",
       "4519  UK, USA MarcForster PaulHaggis NealPurvis Metr...  \n",
       "4024  UK, Czech Republic, USA, Germany, Bahamas Mart...  \n",
       "2924  UK, USA LeeTamahori IanFleming NealPurvis EonP...  "
      ]
     },
     "execution_count": 18,
     "metadata": {},
     "output_type": "execute_result"
    }
   ],
   "source": [
    "# Show closest results\n",
    "result.head(6)"
   ]
  },
  {
   "cell_type": "markdown",
   "metadata": {},
   "source": [
    "### Some Ideas for Future"
   ]
  },
  {
   "cell_type": "code",
   "execution_count": 19,
   "metadata": {},
   "outputs": [],
   "source": [
    "# make a window of year range\n",
    "# take the difference between year to see the closest\n",
    "# make it fast: compute the tfidf once per day, put in cache\n",
    "# Use PCA to speed up cosine similarity computation"
   ]
  }
 ],
 "metadata": {
  "kernelspec": {
   "display_name": "Python 3",
   "language": "python",
   "name": "python3"
  },
  "language_info": {
   "codemirror_mode": {
    "name": "ipython",
    "version": 3
   },
   "file_extension": ".py",
   "mimetype": "text/x-python",
   "name": "python",
   "nbconvert_exporter": "python",
   "pygments_lexer": "ipython3",
   "version": "3.7.3"
  }
 },
 "nbformat": 4,
 "nbformat_minor": 4
}
