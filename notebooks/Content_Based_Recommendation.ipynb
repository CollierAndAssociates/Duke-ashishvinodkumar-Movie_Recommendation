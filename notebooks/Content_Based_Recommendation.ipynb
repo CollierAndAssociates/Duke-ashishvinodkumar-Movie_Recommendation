{
 "cells": [
  {
   "cell_type": "markdown",
   "metadata": {},
   "source": [
    "# Content Based Movie Recommendation"
   ]
  },
  {
   "cell_type": "code",
   "execution_count": 25,
   "metadata": {},
   "outputs": [],
   "source": [
    "import numpy as np\n",
    "import pandas as pd\n",
    "import re\n",
    "pd.set_option('display.max_columns', None)\n",
    "from sklearn.feature_extraction.text import TfidfVectorizer\n",
    "from sklearn.decomposition import TruncatedSVD\n",
    "from sklearn import metrics\n",
    "from scipy.sparse import csr_matrix\n",
    "from numba import jit"
   ]
  },
  {
   "cell_type": "markdown",
   "metadata": {},
   "source": [
    "### Import Dataset"
   ]
  },
  {
   "cell_type": "code",
   "execution_count": 26,
   "metadata": {},
   "outputs": [],
   "source": [
    "# Import movie dataset (combined metadata), subset the data to 10k rows for computational conviencies\n",
    "whole_df = pd.read_csv('combined_metadata_table.csv')"
   ]
  },
  {
   "cell_type": "markdown",
   "metadata": {},
   "source": [
    "### Pick A Movie (Fake Search Engine)"
   ]
  },
  {
   "cell_type": "code",
   "execution_count": 27,
   "metadata": {},
   "outputs": [],
   "source": [
    "def identify_movie(your_pick, whole_df):\n",
    "    return whole_df[whole_df['title'].str.contains(your_pick, flags=re.IGNORECASE, regex=True)]"
   ]
  },
  {
   "cell_type": "code",
   "execution_count": 28,
   "metadata": {},
   "outputs": [
    {
     "data": {
      "text/html": [
       "<div>\n",
       "<style scoped>\n",
       "    .dataframe tbody tr th:only-of-type {\n",
       "        vertical-align: middle;\n",
       "    }\n",
       "\n",
       "    .dataframe tbody tr th {\n",
       "        vertical-align: top;\n",
       "    }\n",
       "\n",
       "    .dataframe thead th {\n",
       "        text-align: right;\n",
       "    }\n",
       "</style>\n",
       "<table border=\"1\" class=\"dataframe\">\n",
       "  <thead>\n",
       "    <tr style=\"text-align: right;\">\n",
       "      <th></th>\n",
       "      <th>imdb_title_id</th>\n",
       "      <th>title</th>\n",
       "      <th>original_title</th>\n",
       "      <th>year</th>\n",
       "      <th>date_published</th>\n",
       "      <th>genre</th>\n",
       "      <th>duration</th>\n",
       "      <th>country</th>\n",
       "      <th>language</th>\n",
       "      <th>director</th>\n",
       "      <th>writer</th>\n",
       "      <th>production_company</th>\n",
       "      <th>actors</th>\n",
       "      <th>description</th>\n",
       "      <th>avg_vote</th>\n",
       "      <th>votes</th>\n",
       "      <th>metascore</th>\n",
       "      <th>reviews_from_users</th>\n",
       "      <th>reviews_from_critics</th>\n",
       "      <th>id</th>\n",
       "      <th>overview</th>\n",
       "      <th>popularity</th>\n",
       "      <th>revenue</th>\n",
       "      <th>tagline</th>\n",
       "    </tr>\n",
       "  </thead>\n",
       "  <tbody>\n",
       "    <tr>\n",
       "      <th>15078</th>\n",
       "      <td>tt0113497</td>\n",
       "      <td>Jumanji</td>\n",
       "      <td>Jumanji</td>\n",
       "      <td>1995</td>\n",
       "      <td>2/16/96</td>\n",
       "      <td>Adventure, Comedy, Family</td>\n",
       "      <td>104</td>\n",
       "      <td>USA</td>\n",
       "      <td>English, French</td>\n",
       "      <td>Joe Johnston</td>\n",
       "      <td>Jonathan Hensleigh, Greg Taylor</td>\n",
       "      <td>TriStar Pictures</td>\n",
       "      <td>Robin Williams, Jonathan Hyde, Kirsten Dunst, ...</td>\n",
       "      <td>When two kids find and play a magical board ga...</td>\n",
       "      <td>7.0</td>\n",
       "      <td>278445</td>\n",
       "      <td>39.0</td>\n",
       "      <td>220.0</td>\n",
       "      <td>101.0</td>\n",
       "      <td>8844</td>\n",
       "      <td>When siblings Judy and Peter discover an encha...</td>\n",
       "      <td>17.015539</td>\n",
       "      <td>262797249.0</td>\n",
       "      <td>Roll the dice and unleash the excitement!</td>\n",
       "    </tr>\n",
       "  </tbody>\n",
       "</table>\n",
       "</div>"
      ],
      "text/plain": [
       "      imdb_title_id    title original_title  year date_published  \\\n",
       "15078     tt0113497  Jumanji        Jumanji  1995        2/16/96   \n",
       "\n",
       "                           genre  duration country         language  \\\n",
       "15078  Adventure, Comedy, Family       104     USA  English, French   \n",
       "\n",
       "           director                           writer production_company  \\\n",
       "15078  Joe Johnston  Jonathan Hensleigh, Greg Taylor   TriStar Pictures   \n",
       "\n",
       "                                                  actors  \\\n",
       "15078  Robin Williams, Jonathan Hyde, Kirsten Dunst, ...   \n",
       "\n",
       "                                             description  avg_vote   votes  \\\n",
       "15078  When two kids find and play a magical board ga...       7.0  278445   \n",
       "\n",
       "       metascore  reviews_from_users  reviews_from_critics    id  \\\n",
       "15078       39.0               220.0                 101.0  8844   \n",
       "\n",
       "                                                overview  popularity  \\\n",
       "15078  When siblings Judy and Peter discover an encha...   17.015539   \n",
       "\n",
       "           revenue                                    tagline  \n",
       "15078  262797249.0  Roll the dice and unleash the excitement!  "
      ]
     },
     "execution_count": 28,
     "metadata": {},
     "output_type": "execute_result"
    }
   ],
   "source": [
    "your_pick = 'Jumanji'\n",
    "identify_movie(your_pick, whole_df)"
   ]
  },
  {
   "cell_type": "markdown",
   "metadata": {},
   "source": [
    "### Subset Dataset"
   ]
  },
  {
   "cell_type": "code",
   "execution_count": 29,
   "metadata": {},
   "outputs": [],
   "source": [
    "def subset_by_genre(your_pick, whole_df):\n",
    "    genres = whole_df[whole_df['title'] == your_pick]['genre']\n",
    "    genres = list(genres)[0].split(', ')\n",
    "    masks = []\n",
    "    for genre in genres:\n",
    "        mask = whole_df['genre'].str.contains(genre)\n",
    "        masks.append(mask)\n",
    "    mask = masks[0]\n",
    "    for i in range(1,len(masks)):\n",
    "        mask = mask | masks[i]\n",
    "    return whole_df[mask]"
   ]
  },
  {
   "cell_type": "code",
   "execution_count": 30,
   "metadata": {},
   "outputs": [],
   "source": [
    "def subset_by_year(your_pick, whole_df, year_range=30):\n",
    "    year = whole_df[whole_df['title'] == your_pick]['year']\n",
    "    year = list(year)[0]\n",
    "    window = [year-year_range, year+year_range]\n",
    "    mask = (whole_df['year'] >= window[0]) & (whole_df['year'] <= window[1])\n",
    "    return whole_df[mask]"
   ]
  },
  {
   "cell_type": "code",
   "execution_count": 31,
   "metadata": {},
   "outputs": [],
   "source": [
    "def subset_by_language(your_pick, whole_df):\n",
    "    languages = whole_df[whole_df['title'] == your_pick]['language']\n",
    "    languages = list(languages)[0].split(', ')\n",
    "    masks = []\n",
    "    for language in languages:\n",
    "        mask = whole_df['language'].str.contains(language)\n",
    "        masks.append(mask)\n",
    "    mask = masks[0]\n",
    "    for i in range(1,len(masks)):\n",
    "        mask = mask | masks[i]\n",
    "    return whole_df[mask]"
   ]
  },
  {
   "cell_type": "code",
   "execution_count": 32,
   "metadata": {},
   "outputs": [],
   "source": [
    "subset_df = subset_by_genre(your_pick, whole_df)\n",
    "source = subset_by_year(your_pick, subset_df)\n",
    "#source = subset_by_language(your_pick, source)"
   ]
  },
  {
   "cell_type": "code",
   "execution_count": 33,
   "metadata": {},
   "outputs": [
    {
     "name": "stdout",
     "output_type": "stream",
     "text": [
      "Subset Size: 12735\n"
     ]
    },
    {
     "data": {
      "text/html": [
       "<div>\n",
       "<style scoped>\n",
       "    .dataframe tbody tr th:only-of-type {\n",
       "        vertical-align: middle;\n",
       "    }\n",
       "\n",
       "    .dataframe tbody tr th {\n",
       "        vertical-align: top;\n",
       "    }\n",
       "\n",
       "    .dataframe thead th {\n",
       "        text-align: right;\n",
       "    }\n",
       "</style>\n",
       "<table border=\"1\" class=\"dataframe\">\n",
       "  <thead>\n",
       "    <tr style=\"text-align: right;\">\n",
       "      <th></th>\n",
       "      <th>imdb_title_id</th>\n",
       "      <th>title</th>\n",
       "      <th>original_title</th>\n",
       "      <th>year</th>\n",
       "      <th>date_published</th>\n",
       "      <th>genre</th>\n",
       "      <th>duration</th>\n",
       "      <th>country</th>\n",
       "      <th>language</th>\n",
       "      <th>director</th>\n",
       "      <th>writer</th>\n",
       "      <th>production_company</th>\n",
       "      <th>actors</th>\n",
       "      <th>description</th>\n",
       "      <th>avg_vote</th>\n",
       "      <th>votes</th>\n",
       "      <th>metascore</th>\n",
       "      <th>reviews_from_users</th>\n",
       "      <th>reviews_from_critics</th>\n",
       "      <th>id</th>\n",
       "      <th>overview</th>\n",
       "      <th>popularity</th>\n",
       "      <th>revenue</th>\n",
       "      <th>tagline</th>\n",
       "    </tr>\n",
       "  </thead>\n",
       "  <tbody>\n",
       "    <tr>\n",
       "      <th>5889</th>\n",
       "      <td>tt0059126</td>\n",
       "      <td>Dr. Who and the Daleks</td>\n",
       "      <td>Dr. Who and the Daleks</td>\n",
       "      <td>1965</td>\n",
       "      <td>8/23/65</td>\n",
       "      <td>Adventure, Family, Sci-Fi</td>\n",
       "      <td>82</td>\n",
       "      <td>UK</td>\n",
       "      <td>English</td>\n",
       "      <td>Gordon Flemyng</td>\n",
       "      <td>Terry Nation, Milton Subotsky</td>\n",
       "      <td>AARU Productions</td>\n",
       "      <td>Peter Cushing, Roy Castle, Jennie Linden, Robe...</td>\n",
       "      <td>An eccentric inventor and his companions trave...</td>\n",
       "      <td>5.8</td>\n",
       "      <td>3497</td>\n",
       "      <td>NaN</td>\n",
       "      <td>63.0</td>\n",
       "      <td>36.0</td>\n",
       "      <td>26581</td>\n",
       "      <td>Scientist Doctor Who accidentally activates hi...</td>\n",
       "      <td>2.187942</td>\n",
       "      <td>0.0</td>\n",
       "      <td>Now on the Big Screen in COLOUR!</td>\n",
       "    </tr>\n",
       "    <tr>\n",
       "      <th>5891</th>\n",
       "      <td>tt0059269</td>\n",
       "      <td>A High Wind in Jamaica</td>\n",
       "      <td>A High Wind in Jamaica</td>\n",
       "      <td>1965</td>\n",
       "      <td>6/4/65</td>\n",
       "      <td>Adventure, Drama</td>\n",
       "      <td>103</td>\n",
       "      <td>UK</td>\n",
       "      <td>English, Spanish</td>\n",
       "      <td>Alexander Mackendrick</td>\n",
       "      <td>Stanley Mann, Ronald Harwood</td>\n",
       "      <td>Twentieth Century-Fox Productions</td>\n",
       "      <td>Anthony Quinn, James Coburn, Dennis Price, Lil...</td>\n",
       "      <td>In 1870, a Jamaican colonial family sends its ...</td>\n",
       "      <td>6.6</td>\n",
       "      <td>1716</td>\n",
       "      <td>NaN</td>\n",
       "      <td>31.0</td>\n",
       "      <td>18.0</td>\n",
       "      <td>38340</td>\n",
       "      <td>In 1870, a Jamaican colonial family sends its ...</td>\n",
       "      <td>1.235903</td>\n",
       "      <td>0.0</td>\n",
       "      <td>NaN</td>\n",
       "    </tr>\n",
       "    <tr>\n",
       "      <th>5892</th>\n",
       "      <td>tt0059014</td>\n",
       "      <td>Carry On Cowboy</td>\n",
       "      <td>Carry On Cowboy</td>\n",
       "      <td>1965</td>\n",
       "      <td>5/27/66</td>\n",
       "      <td>Comedy, Western</td>\n",
       "      <td>93</td>\n",
       "      <td>UK</td>\n",
       "      <td>English</td>\n",
       "      <td>Gerald Thomas</td>\n",
       "      <td>Talbot Rothwell</td>\n",
       "      <td>Peter Rogers Productions</td>\n",
       "      <td>Sidney James, Kenneth Williams, Jim Dale, Char...</td>\n",
       "      <td>Stodge City is in the grip of the Rumpo Kid an...</td>\n",
       "      <td>6.2</td>\n",
       "      <td>2463</td>\n",
       "      <td>NaN</td>\n",
       "      <td>24.0</td>\n",
       "      <td>8.0</td>\n",
       "      <td>5065</td>\n",
       "      <td>Stodge City is in the grip of the Rumpo Kid an...</td>\n",
       "      <td>5.236409</td>\n",
       "      <td>0.0</td>\n",
       "      <td>How the west was lost!</td>\n",
       "    </tr>\n",
       "  </tbody>\n",
       "</table>\n",
       "</div>"
      ],
      "text/plain": [
       "     imdb_title_id                   title          original_title  year  \\\n",
       "5889     tt0059126  Dr. Who and the Daleks  Dr. Who and the Daleks  1965   \n",
       "5891     tt0059269  A High Wind in Jamaica  A High Wind in Jamaica  1965   \n",
       "5892     tt0059014         Carry On Cowboy         Carry On Cowboy  1965   \n",
       "\n",
       "     date_published                      genre  duration country  \\\n",
       "5889        8/23/65  Adventure, Family, Sci-Fi        82      UK   \n",
       "5891         6/4/65           Adventure, Drama       103      UK   \n",
       "5892        5/27/66            Comedy, Western        93      UK   \n",
       "\n",
       "              language               director                         writer  \\\n",
       "5889           English         Gordon Flemyng  Terry Nation, Milton Subotsky   \n",
       "5891  English, Spanish  Alexander Mackendrick   Stanley Mann, Ronald Harwood   \n",
       "5892           English          Gerald Thomas                Talbot Rothwell   \n",
       "\n",
       "                     production_company  \\\n",
       "5889                   AARU Productions   \n",
       "5891  Twentieth Century-Fox Productions   \n",
       "5892           Peter Rogers Productions   \n",
       "\n",
       "                                                 actors  \\\n",
       "5889  Peter Cushing, Roy Castle, Jennie Linden, Robe...   \n",
       "5891  Anthony Quinn, James Coburn, Dennis Price, Lil...   \n",
       "5892  Sidney James, Kenneth Williams, Jim Dale, Char...   \n",
       "\n",
       "                                            description  avg_vote  votes  \\\n",
       "5889  An eccentric inventor and his companions trave...       5.8   3497   \n",
       "5891  In 1870, a Jamaican colonial family sends its ...       6.6   1716   \n",
       "5892  Stodge City is in the grip of the Rumpo Kid an...       6.2   2463   \n",
       "\n",
       "      metascore  reviews_from_users  reviews_from_critics     id  \\\n",
       "5889        NaN                63.0                  36.0  26581   \n",
       "5891        NaN                31.0                  18.0  38340   \n",
       "5892        NaN                24.0                   8.0   5065   \n",
       "\n",
       "                                               overview  popularity  revenue  \\\n",
       "5889  Scientist Doctor Who accidentally activates hi...    2.187942      0.0   \n",
       "5891  In 1870, a Jamaican colonial family sends its ...    1.235903      0.0   \n",
       "5892  Stodge City is in the grip of the Rumpo Kid an...    5.236409      0.0   \n",
       "\n",
       "                               tagline  \n",
       "5889  Now on the Big Screen in COLOUR!  \n",
       "5891                               NaN  \n",
       "5892            How the west was lost!  "
      ]
     },
     "execution_count": 33,
     "metadata": {},
     "output_type": "execute_result"
    }
   ],
   "source": [
    "print('Subset Size:', source.shape[0])\n",
    "source.head(3)"
   ]
  },
  {
   "cell_type": "markdown",
   "metadata": {},
   "source": [
    "### Data Processing"
   ]
  },
  {
   "cell_type": "code",
   "execution_count": 34,
   "metadata": {},
   "outputs": [],
   "source": [
    "# Delete spaces in names to make names more unique\n",
    "# eg. 'firstname lastname' -> 'firstnamelastname'\n",
    "column_with_names = ['director', 'writer', 'production_company', 'actors']\n",
    "source = source.copy()\n",
    "for col in column_with_names:\n",
    "    source[str(col)] = source[str(col)].str.replace(' ', '', regex=True)\n",
    "    source[str(col)] = source[str(col)].str.replace(',', ' ', regex=True)"
   ]
  },
  {
   "cell_type": "markdown",
   "metadata": {},
   "source": [
    "### Compute TFIDF"
   ]
  },
  {
   "cell_type": "code",
   "execution_count": 35,
   "metadata": {},
   "outputs": [],
   "source": [
    "# Suggestion: remove the spaces for the names, to solving clustering ambiguity\n",
    "# Issue: how to deal with numbers ???\n",
    "columns = ['country', 'director','writer', \n",
    "           'production_company', 'actors',\n",
    "           'description','overview', 'tagline']"
   ]
  },
  {
   "cell_type": "code",
   "execution_count": 36,
   "metadata": {},
   "outputs": [],
   "source": [
    "# Converts the source dataframe into single string for tfidf computation\n",
    "df = {}\n",
    "movies = []\n",
    "titles = []\n",
    "imdbid = []\n",
    "for i in range(source.shape[0]):\n",
    "    row = source.iloc[i]\n",
    "    row_str = ''\n",
    "    titles.append(row['title'])\n",
    "    imdbid.append(row['imdb_title_id'])\n",
    "    for column in columns:\n",
    "        row_str += str(row[column])\n",
    "        row_str += ' '\n",
    "    movies.append(row_str)\n",
    "\n",
    "df['IMDBid'] = imdbid\n",
    "df['Title'] = titles\n",
    "df['Content'] = movies\n",
    "df = pd.DataFrame(df)"
   ]
  },
  {
   "cell_type": "code",
   "execution_count": 37,
   "metadata": {},
   "outputs": [
    {
     "data": {
      "text/html": [
       "<div>\n",
       "<style scoped>\n",
       "    .dataframe tbody tr th:only-of-type {\n",
       "        vertical-align: middle;\n",
       "    }\n",
       "\n",
       "    .dataframe tbody tr th {\n",
       "        vertical-align: top;\n",
       "    }\n",
       "\n",
       "    .dataframe thead th {\n",
       "        text-align: right;\n",
       "    }\n",
       "</style>\n",
       "<table border=\"1\" class=\"dataframe\">\n",
       "  <thead>\n",
       "    <tr style=\"text-align: right;\">\n",
       "      <th></th>\n",
       "      <th>IMDBid</th>\n",
       "      <th>Title</th>\n",
       "      <th>Content</th>\n",
       "    </tr>\n",
       "  </thead>\n",
       "  <tbody>\n",
       "    <tr>\n",
       "      <th>0</th>\n",
       "      <td>tt0059126</td>\n",
       "      <td>Dr. Who and the Daleks</td>\n",
       "      <td>UK GordonFlemyng TerryNation MiltonSubotsky AA...</td>\n",
       "    </tr>\n",
       "    <tr>\n",
       "      <th>1</th>\n",
       "      <td>tt0059269</td>\n",
       "      <td>A High Wind in Jamaica</td>\n",
       "      <td>UK AlexanderMackendrick StanleyMann RonaldHarw...</td>\n",
       "    </tr>\n",
       "    <tr>\n",
       "      <th>2</th>\n",
       "      <td>tt0059014</td>\n",
       "      <td>Carry On Cowboy</td>\n",
       "      <td>UK GeraldThomas TalbotRothwell PeterRogersProd...</td>\n",
       "    </tr>\n",
       "    <tr>\n",
       "      <th>3</th>\n",
       "      <td>tt0059800</td>\n",
       "      <td>Thunderball</td>\n",
       "      <td>UK TerenceYoung RichardMaibaum JohnHopkins Eon...</td>\n",
       "    </tr>\n",
       "    <tr>\n",
       "      <th>4</th>\n",
       "      <td>tt0059362</td>\n",
       "      <td>The Knack ...and How to Get It</td>\n",
       "      <td>UK RichardLester CharlesWood AnnJellicoe Woodf...</td>\n",
       "    </tr>\n",
       "  </tbody>\n",
       "</table>\n",
       "</div>"
      ],
      "text/plain": [
       "      IMDBid                           Title  \\\n",
       "0  tt0059126          Dr. Who and the Daleks   \n",
       "1  tt0059269          A High Wind in Jamaica   \n",
       "2  tt0059014                 Carry On Cowboy   \n",
       "3  tt0059800                     Thunderball   \n",
       "4  tt0059362  The Knack ...and How to Get It   \n",
       "\n",
       "                                             Content  \n",
       "0  UK GordonFlemyng TerryNation MiltonSubotsky AA...  \n",
       "1  UK AlexanderMackendrick StanleyMann RonaldHarw...  \n",
       "2  UK GeraldThomas TalbotRothwell PeterRogersProd...  \n",
       "3  UK TerenceYoung RichardMaibaum JohnHopkins Eon...  \n",
       "4  UK RichardLester CharlesWood AnnJellicoe Woodf...  "
      ]
     },
     "execution_count": 37,
     "metadata": {},
     "output_type": "execute_result"
    }
   ],
   "source": [
    "df.head()"
   ]
  },
  {
   "cell_type": "code",
   "execution_count": 39,
   "metadata": {},
   "outputs": [
    {
     "name": "stdout",
     "output_type": "stream",
     "text": [
      "X shape: (12735, 159277)\n"
     ]
    }
   ],
   "source": [
    "def to_tfidf():\n",
    "    V = TfidfVectorizer()\n",
    "    X = V.fit_transform(df['Content'])\n",
    "    \n",
    "    print('X shape:', X.shape)\n",
    "    return V, X\n",
    "\n",
    "V, X = to_tfidf()"
   ]
  },
  {
   "cell_type": "markdown",
   "metadata": {},
   "source": [
    "### Compute Similarity"
   ]
  },
  {
   "cell_type": "code",
   "execution_count": 24,
   "metadata": {},
   "outputs": [
    {
     "data": {
      "text/plain": [
       "\"\\n# Dimensionality reduction\\nsvd = TruncatedSVD(n_components=10)\\nX = svd.fit_transform(X)\\nprint('X shape after SVD:', X.shape)\\n\\n\\n# Compute similarity of movie for SVD\\nindex = df[df['Title'] == your_pick].index[0]\\nd1 = X[index]\\nmag_d1 = np.linalg.norm(d1)\\ndist = []\\nfor i in range(X.shape[0]):\\n    row = X[i]\\n    dot_product_xy = np.dot(d1, row)\\n    mag_row = np.linalg.norm(row)\\n    x_time_y = mag_d1 * mag_row\\n    dist.append(dot_product_xy/x_time_y) \\ndist_series = pd.Series(dist)\\ndist_series = dist_series.sort_values(ascending=False)\\ndist_series.iloc[1:6]\\ndist_series = pd.DataFrame(dist_series)\\n\""
      ]
     },
     "execution_count": 24,
     "metadata": {},
     "output_type": "execute_result"
    }
   ],
   "source": [
    "'''\n",
    "# Dimensionality reduction\n",
    "svd = TruncatedSVD(n_components=10)\n",
    "X = svd.fit_transform(X)\n",
    "print('X shape after SVD:', X.shape)\n",
    "\n",
    "\n",
    "# Compute similarity of movie for SVD\n",
    "index = df[df['Title'] == your_pick].index[0]\n",
    "d1 = X[index]\n",
    "mag_d1 = np.linalg.norm(d1)\n",
    "dist = []\n",
    "for i in range(X.shape[0]):\n",
    "    row = X[i]\n",
    "    dot_product_xy = np.dot(d1, row)\n",
    "    mag_row = np.linalg.norm(row)\n",
    "    x_time_y = mag_d1 * mag_row\n",
    "    dist.append(dot_product_xy/x_time_y) \n",
    "dist_series = pd.Series(dist)\n",
    "dist_series = dist_series.sort_values(ascending=False)\n",
    "dist_series.iloc[1:6]\n",
    "dist_series = pd.DataFrame(dist_series)\n",
    "'''"
   ]
  },
  {
   "cell_type": "code",
   "execution_count": 42,
   "metadata": {},
   "outputs": [
    {
     "data": {
      "text/plain": [
       "scipy.sparse.csr.csr_matrix"
      ]
     },
     "execution_count": 42,
     "metadata": {},
     "output_type": "execute_result"
    }
   ],
   "source": [
    "'''\n",
    "# Compute similarity of movie: Melvin and Howard\n",
    "index = df[df['Title'] == your_pick].index[0]\n",
    "d1 = list(csr_matrix.toarray(X[index]))\n",
    "mag_d1 = np.linalg.norm(d1)\n",
    "dist = []\n",
    "for i in range(X.shape[0]):\n",
    "    row = list(csr_matrix.toarray(X[i]))\n",
    "    dot_product_xy = np.multiply(d1, row).sum(1)\n",
    "    mag_row = np.linalg.norm(row)\n",
    "    x_time_y = mag_d1 * mag_row\n",
    "    dist.append(dot_product_xy/x_time_y) \n",
    "dist_series = pd.Series(dist)\n",
    "dist_series = dist_series.sort_values(ascending=False)\n",
    "dist_series.iloc[1:6]\n",
    "dist_series = pd.DataFrame(dist_series)\n",
    "'''"
   ]
  },
  {
   "cell_type": "code",
   "execution_count": 43,
   "metadata": {},
   "outputs": [],
   "source": [
    "# Compute similarity of movie: Melvin and Howard\n",
    "@jit(nopython=True)\n",
    "def to_cossim():\n",
    "    index = df[df['Title'] == your_pick].index[0]\n",
    "    d1 = np.array(list(csr_matrix.toarray(X[index])))\n",
    "    mag_d1 = np.linalg.norm(d1)\n",
    "    dist = []\n",
    "    for i in range(X.shape[0]):\n",
    "        row = np.array(list(csr_matrix.toarray(X[i])))\n",
    "        dot_product_xy = np.multiply(d1, row).sum(1)\n",
    "        mag_row = np.linalg.norm(row)\n",
    "        x_time_y = mag_d1 * mag_row\n",
    "        dist.append(dot_product_xy/x_time_y) \n",
    "    dist_series = pd.Series(dist)\n",
    "    dist_series = dist_series.sort_values(ascending=False)\n",
    "    dist_series.iloc[1:6]\n",
    "    dist_series = pd.DataFrame(dist_series)"
   ]
  },
  {
   "cell_type": "markdown",
   "metadata": {},
   "source": [
    "### Recommend Top 5 Movies"
   ]
  },
  {
   "cell_type": "code",
   "execution_count": 17,
   "metadata": {},
   "outputs": [],
   "source": [
    "# Merge similarity scores with original dataframe to visualize\n",
    "result = pd.merge(dist_series, df, how='inner', left_index=True, right_index=True)\n",
    "result = result.rename({0: 'Cosine Similarity Score'}, axis='columns')"
   ]
  },
  {
   "cell_type": "code",
   "execution_count": 18,
   "metadata": {},
   "outputs": [
    {
     "data": {
      "text/html": [
       "<div>\n",
       "<style scoped>\n",
       "    .dataframe tbody tr th:only-of-type {\n",
       "        vertical-align: middle;\n",
       "    }\n",
       "\n",
       "    .dataframe tbody tr th {\n",
       "        vertical-align: top;\n",
       "    }\n",
       "\n",
       "    .dataframe thead th {\n",
       "        text-align: right;\n",
       "    }\n",
       "</style>\n",
       "<table border=\"1\" class=\"dataframe\">\n",
       "  <thead>\n",
       "    <tr style=\"text-align: right;\">\n",
       "      <th></th>\n",
       "      <th>Cosine Similarity Score</th>\n",
       "      <th>IMDBid</th>\n",
       "      <th>Title</th>\n",
       "      <th>Content</th>\n",
       "    </tr>\n",
       "  </thead>\n",
       "  <tbody>\n",
       "    <tr>\n",
       "      <th>2965</th>\n",
       "      <td>[1.0000000000000002]</td>\n",
       "      <td>tt0085995</td>\n",
       "      <td>National Lampoon's Vacation</td>\n",
       "      <td>USA HaroldRamis JohnHughes JohnHughes WarnerBr...</td>\n",
       "    </tr>\n",
       "    <tr>\n",
       "      <th>4023</th>\n",
       "      <td>[0.23926701067907094]</td>\n",
       "      <td>tt0097958</td>\n",
       "      <td>National Lampoon's Christmas Vacation</td>\n",
       "      <td>USA JeremiahS.Chechik JohnHughes WarnerBros. C...</td>\n",
       "    </tr>\n",
       "    <tr>\n",
       "      <th>5548</th>\n",
       "      <td>[0.1860146536597548]</td>\n",
       "      <td>tt0120434</td>\n",
       "      <td>Vegas Vacation</td>\n",
       "      <td>USA StephenKessler ElisaBell BobDucsay WarnerB...</td>\n",
       "    </tr>\n",
       "    <tr>\n",
       "      <th>3307</th>\n",
       "      <td>[0.15279257267950555]</td>\n",
       "      <td>tt0089670</td>\n",
       "      <td>National Lampoon's European Vacation</td>\n",
       "      <td>USA AmyHeckerling JohnHughes RobertKlane Warne...</td>\n",
       "    </tr>\n",
       "    <tr>\n",
       "      <th>4660</th>\n",
       "      <td>[0.14477408723062454]</td>\n",
       "      <td>tt0107290</td>\n",
       "      <td>Jurassic Park</td>\n",
       "      <td>USA StevenSpielberg MichaelCrichton MichaelCri...</td>\n",
       "    </tr>\n",
       "    <tr>\n",
       "      <th>4180</th>\n",
       "      <td>[0.1159607089009845]</td>\n",
       "      <td>tt0099785</td>\n",
       "      <td>Home Alone</td>\n",
       "      <td>USA ChrisColumbus JohnHughes HughesEntertainme...</td>\n",
       "    </tr>\n",
       "  </tbody>\n",
       "</table>\n",
       "</div>"
      ],
      "text/plain": [
       "     Cosine Similarity Score     IMDBid  \\\n",
       "2965    [1.0000000000000002]  tt0085995   \n",
       "4023   [0.23926701067907094]  tt0097958   \n",
       "5548    [0.1860146536597548]  tt0120434   \n",
       "3307   [0.15279257267950555]  tt0089670   \n",
       "4660   [0.14477408723062454]  tt0107290   \n",
       "4180    [0.1159607089009845]  tt0099785   \n",
       "\n",
       "                                      Title  \\\n",
       "2965            National Lampoon's Vacation   \n",
       "4023  National Lampoon's Christmas Vacation   \n",
       "5548                         Vegas Vacation   \n",
       "3307   National Lampoon's European Vacation   \n",
       "4660                          Jurassic Park   \n",
       "4180                             Home Alone   \n",
       "\n",
       "                                                Content  \n",
       "2965  USA HaroldRamis JohnHughes JohnHughes WarnerBr...  \n",
       "4023  USA JeremiahS.Chechik JohnHughes WarnerBros. C...  \n",
       "5548  USA StephenKessler ElisaBell BobDucsay WarnerB...  \n",
       "3307  USA AmyHeckerling JohnHughes RobertKlane Warne...  \n",
       "4660  USA StevenSpielberg MichaelCrichton MichaelCri...  \n",
       "4180  USA ChrisColumbus JohnHughes HughesEntertainme...  "
      ]
     },
     "execution_count": 18,
     "metadata": {},
     "output_type": "execute_result"
    }
   ],
   "source": [
    "# Show closest results\n",
    "result.head(6)"
   ]
  },
  {
   "cell_type": "markdown",
   "metadata": {},
   "source": [
    "### Some Ideas for Future"
   ]
  },
  {
   "cell_type": "code",
   "execution_count": 19,
   "metadata": {},
   "outputs": [],
   "source": [
    "# make a window of year range\n",
    "# take the difference between year to see the closest\n",
    "# make it fast: compute the tfidf once per day, put in cache\n",
    "# Use PCA to speed up cosine similarity computation"
   ]
  }
 ],
 "metadata": {
  "kernelspec": {
   "display_name": "Python 3",
   "language": "python",
   "name": "python3"
  },
  "language_info": {
   "codemirror_mode": {
    "name": "ipython",
    "version": 3
   },
   "file_extension": ".py",
   "mimetype": "text/x-python",
   "name": "python",
   "nbconvert_exporter": "python",
   "pygments_lexer": "ipython3",
   "version": "3.7.3"
  }
 },
 "nbformat": 4,
 "nbformat_minor": 4
}
