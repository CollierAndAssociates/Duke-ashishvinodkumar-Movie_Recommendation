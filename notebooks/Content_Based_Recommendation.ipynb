{
 "cells": [
  {
   "cell_type": "markdown",
   "metadata": {},
   "source": [
    "# Content Based Movie Recommendation"
   ]
  },
  {
   "cell_type": "code",
   "execution_count": 1,
   "metadata": {},
   "outputs": [],
   "source": [
    "import numpy as np\n",
    "import pandas as pd\n",
    "import re\n",
    "pd.set_option('display.max_columns', None)\n",
    "from sklearn.feature_extraction.text import TfidfVectorizer\n",
    "from sklearn.decomposition import TruncatedSVD\n",
    "from sklearn import metrics\n",
    "from scipy.sparse import csr_matrix"
   ]
  },
  {
   "cell_type": "markdown",
   "metadata": {},
   "source": [
    "### Import Dataset"
   ]
  },
  {
   "cell_type": "code",
   "execution_count": 5,
   "metadata": {},
   "outputs": [],
   "source": [
    "# Import movie dataset (combined metadata), subset the data to 10k rows for computational conviencies\n",
    "whole_df = pd.read_csv('/home/Movie_Recommendation/notebooks/combined_metadata_table.csv')"
   ]
  },
  {
   "cell_type": "markdown",
   "metadata": {},
   "source": [
    "### Pick A Movie (Fake Search Engine)"
   ]
  },
  {
   "cell_type": "code",
   "execution_count": 6,
   "metadata": {},
   "outputs": [],
   "source": [
    "def identify_movie(your_pick, whole_df):\n",
    "    return whole_df[whole_df['title'].str.contains(your_pick, flags=re.IGNORECASE, regex=True)]"
   ]
  },
  {
   "cell_type": "code",
   "execution_count": 12,
   "metadata": {},
   "outputs": [
    {
     "data": {
      "text/html": [
       "<div>\n",
       "<style scoped>\n",
       "    .dataframe tbody tr th:only-of-type {\n",
       "        vertical-align: middle;\n",
       "    }\n",
       "\n",
       "    .dataframe tbody tr th {\n",
       "        vertical-align: top;\n",
       "    }\n",
       "\n",
       "    .dataframe thead th {\n",
       "        text-align: right;\n",
       "    }\n",
       "</style>\n",
       "<table border=\"1\" class=\"dataframe\">\n",
       "  <thead>\n",
       "    <tr style=\"text-align: right;\">\n",
       "      <th></th>\n",
       "      <th>imdb_title_id</th>\n",
       "      <th>title</th>\n",
       "      <th>original_title</th>\n",
       "      <th>year</th>\n",
       "      <th>date_published</th>\n",
       "      <th>genre</th>\n",
       "      <th>duration</th>\n",
       "      <th>country</th>\n",
       "      <th>language</th>\n",
       "      <th>director</th>\n",
       "      <th>writer</th>\n",
       "      <th>production_company</th>\n",
       "      <th>actors</th>\n",
       "      <th>description</th>\n",
       "      <th>avg_vote</th>\n",
       "      <th>votes</th>\n",
       "      <th>metascore</th>\n",
       "      <th>reviews_from_users</th>\n",
       "      <th>reviews_from_critics</th>\n",
       "      <th>id</th>\n",
       "      <th>overview</th>\n",
       "      <th>popularity</th>\n",
       "      <th>revenue</th>\n",
       "      <th>tagline</th>\n",
       "    </tr>\n",
       "  </thead>\n",
       "  <tbody>\n",
       "    <tr>\n",
       "      <th>19712</th>\n",
       "      <td>tt0398563</td>\n",
       "      <td>Sky High</td>\n",
       "      <td>Sky High</td>\n",
       "      <td>2003</td>\n",
       "      <td>12/5/03</td>\n",
       "      <td>Fantasy, Mystery, Action</td>\n",
       "      <td>122</td>\n",
       "      <td>Japan</td>\n",
       "      <td>Japanese</td>\n",
       "      <td>Ryûhei Kitamura</td>\n",
       "      <td>Tsutomu Takahashi, Isao Kiriyama</td>\n",
       "      <td>Toei Company</td>\n",
       "      <td>Yumiko Shaku, Takao Ohsawa, Shôsuke Tanihara, ...</td>\n",
       "      <td>A detective hunts a killer who is removing gir...</td>\n",
       "      <td>6.1</td>\n",
       "      <td>1361</td>\n",
       "      <td>NaN</td>\n",
       "      <td>26.0</td>\n",
       "      <td>24.0</td>\n",
       "      <td>5846</td>\n",
       "      <td>A serial-murderer is on the loose who just so ...</td>\n",
       "      <td>0.791678</td>\n",
       "      <td>0.0</td>\n",
       "      <td>NaN</td>\n",
       "    </tr>\n",
       "    <tr>\n",
       "      <th>21012</th>\n",
       "      <td>tt0405325</td>\n",
       "      <td>Sky High</td>\n",
       "      <td>Sky High</td>\n",
       "      <td>2005</td>\n",
       "      <td>10/21/05</td>\n",
       "      <td>Adventure, Comedy, Family</td>\n",
       "      <td>100</td>\n",
       "      <td>USA</td>\n",
       "      <td>English, Cantonese</td>\n",
       "      <td>Mike Mitchell</td>\n",
       "      <td>Paul Hernandez, Robert Schooley</td>\n",
       "      <td>Walt Disney Pictures</td>\n",
       "      <td>Michael Angarano, Kurt Russell, Kelly Preston,...</td>\n",
       "      <td>Set in an era where superheroes are commonly k...</td>\n",
       "      <td>6.2</td>\n",
       "      <td>73753</td>\n",
       "      <td>62.0</td>\n",
       "      <td>236.0</td>\n",
       "      <td>135.0</td>\n",
       "      <td>11459</td>\n",
       "      <td>Set in a world where superheroes are commonly ...</td>\n",
       "      <td>8.061423</td>\n",
       "      <td>86369815.0</td>\n",
       "      <td>Saving The World... One Homework Assignment At...</td>\n",
       "    </tr>\n",
       "  </tbody>\n",
       "</table>\n",
       "</div>"
      ],
      "text/plain": [
       "      imdb_title_id     title original_title  year date_published  \\\n",
       "19712     tt0398563  Sky High       Sky High  2003        12/5/03   \n",
       "21012     tt0405325  Sky High       Sky High  2005       10/21/05   \n",
       "\n",
       "                           genre  duration country            language  \\\n",
       "19712   Fantasy, Mystery, Action       122   Japan            Japanese   \n",
       "21012  Adventure, Comedy, Family       100     USA  English, Cantonese   \n",
       "\n",
       "              director                            writer  \\\n",
       "19712  Ryûhei Kitamura  Tsutomu Takahashi, Isao Kiriyama   \n",
       "21012    Mike Mitchell   Paul Hernandez, Robert Schooley   \n",
       "\n",
       "         production_company  \\\n",
       "19712          Toei Company   \n",
       "21012  Walt Disney Pictures   \n",
       "\n",
       "                                                  actors  \\\n",
       "19712  Yumiko Shaku, Takao Ohsawa, Shôsuke Tanihara, ...   \n",
       "21012  Michael Angarano, Kurt Russell, Kelly Preston,...   \n",
       "\n",
       "                                             description  avg_vote  votes  \\\n",
       "19712  A detective hunts a killer who is removing gir...       6.1   1361   \n",
       "21012  Set in an era where superheroes are commonly k...       6.2  73753   \n",
       "\n",
       "       metascore  reviews_from_users  reviews_from_critics     id  \\\n",
       "19712        NaN                26.0                  24.0   5846   \n",
       "21012       62.0               236.0                 135.0  11459   \n",
       "\n",
       "                                                overview  popularity  \\\n",
       "19712  A serial-murderer is on the loose who just so ...    0.791678   \n",
       "21012  Set in a world where superheroes are commonly ...    8.061423   \n",
       "\n",
       "          revenue                                            tagline  \n",
       "19712         0.0                                                NaN  \n",
       "21012  86369815.0  Saving The World... One Homework Assignment At...  "
      ]
     },
     "execution_count": 12,
     "metadata": {},
     "output_type": "execute_result"
    }
   ],
   "source": [
    "your_pick = 'Sky High'\n",
    "identify_movie(your_pick, whole_df)"
   ]
  },
  {
   "cell_type": "markdown",
   "metadata": {},
   "source": [
    "### Subset Dataset"
   ]
  },
  {
   "cell_type": "code",
   "execution_count": 13,
   "metadata": {},
   "outputs": [],
   "source": [
    "def subset_by_genre(your_pick, whole_df):\n",
    "    genres = whole_df[whole_df['title'] == your_pick]['genre']\n",
    "    genres = list(genres)[0].split(', ')\n",
    "    masks = []\n",
    "    for genre in genres:\n",
    "        mask = whole_df['genre'].str.contains(genre)\n",
    "        masks.append(mask)\n",
    "    mask = masks[0]\n",
    "    for i in range(1,len(masks)):\n",
    "        mask = mask | masks[i]\n",
    "    return whole_df[mask]"
   ]
  },
  {
   "cell_type": "code",
   "execution_count": 14,
   "metadata": {},
   "outputs": [],
   "source": [
    "def subset_by_year(your_pick, whole_df, year_range=30):\n",
    "    year = whole_df[whole_df['title'] == your_pick]['year']\n",
    "    year = list(year)[0]\n",
    "    window = [year-year_range, year+year_range]\n",
    "    mask = (whole_df['year'] >= window[0]) & (whole_df['year'] <= window[1])\n",
    "    return whole_df[mask]"
   ]
  },
  {
   "cell_type": "code",
   "execution_count": 11,
   "metadata": {},
   "outputs": [],
   "source": [
    "def subset_by_language(your_pick, whole_df):\n",
    "    languages = whole_df[whole_df['title'] == your_pick]['language']\n",
    "    languages = list(languages)[0].split(', ')\n",
    "    masks = []\n",
    "    for language in languages:\n",
    "        mask = whole_df['language'].str.contains(language)\n",
    "        masks.append(mask)\n",
    "    mask = masks[0]\n",
    "    for i in range(1,len(masks)):\n",
    "        mask = mask | masks[i]\n",
    "    return whole_df[mask]"
   ]
  },
  {
   "cell_type": "code",
   "execution_count": null,
   "metadata": {},
   "outputs": [],
   "source": [
    "source = subset_by_language(your_pick, whole_df)"
   ]
  },
  {
   "cell_type": "code",
   "execution_count": 8,
   "metadata": {},
   "outputs": [],
   "source": [
    "subset_df = subset_by_genre(your_pick, whole_df)\n",
    "source = subset_by_year(your_pick, subset_df)\n",
    "source = subset_by_language(your_pick, source)"
   ]
  },
  {
   "cell_type": "code",
   "execution_count": 9,
   "metadata": {},
   "outputs": [
    {
     "name": "stdout",
     "output_type": "stream",
     "text": [
      "Subset Size: 11610\n"
     ]
    },
    {
     "data": {
      "text/html": [
       "<div>\n",
       "<style scoped>\n",
       "    .dataframe tbody tr th:only-of-type {\n",
       "        vertical-align: middle;\n",
       "    }\n",
       "\n",
       "    .dataframe tbody tr th {\n",
       "        vertical-align: top;\n",
       "    }\n",
       "\n",
       "    .dataframe thead th {\n",
       "        text-align: right;\n",
       "    }\n",
       "</style>\n",
       "<table border=\"1\" class=\"dataframe\">\n",
       "  <thead>\n",
       "    <tr style=\"text-align: right;\">\n",
       "      <th></th>\n",
       "      <th>imdb_title_id</th>\n",
       "      <th>title</th>\n",
       "      <th>original_title</th>\n",
       "      <th>year</th>\n",
       "      <th>date_published</th>\n",
       "      <th>genre</th>\n",
       "      <th>duration</th>\n",
       "      <th>country</th>\n",
       "      <th>language</th>\n",
       "      <th>director</th>\n",
       "      <th>writer</th>\n",
       "      <th>production_company</th>\n",
       "      <th>actors</th>\n",
       "      <th>description</th>\n",
       "      <th>avg_vote</th>\n",
       "      <th>votes</th>\n",
       "      <th>metascore</th>\n",
       "      <th>reviews_from_users</th>\n",
       "      <th>reviews_from_critics</th>\n",
       "      <th>id</th>\n",
       "      <th>overview</th>\n",
       "      <th>popularity</th>\n",
       "      <th>revenue</th>\n",
       "      <th>tagline</th>\n",
       "    </tr>\n",
       "  </thead>\n",
       "  <tbody>\n",
       "    <tr>\n",
       "      <th>3525</th>\n",
       "      <td>tt0045808</td>\n",
       "      <td>Genevieve</td>\n",
       "      <td>Genevieve</td>\n",
       "      <td>1953</td>\n",
       "      <td>8/14/53</td>\n",
       "      <td>Comedy</td>\n",
       "      <td>86</td>\n",
       "      <td>UK</td>\n",
       "      <td>English</td>\n",
       "      <td>Henry Cornelius</td>\n",
       "      <td>William Rose</td>\n",
       "      <td>Sirius Productions</td>\n",
       "      <td>Dinah Sheridan, John Gregson, Kay Kendall, Ken...</td>\n",
       "      <td>It's time for the annual London to Brighton an...</td>\n",
       "      <td>7.1</td>\n",
       "      <td>2578</td>\n",
       "      <td>NaN</td>\n",
       "      <td>51.0</td>\n",
       "      <td>19.0</td>\n",
       "      <td>43346</td>\n",
       "      <td>Two friends driving in the London to Brighton ...</td>\n",
       "      <td>1.152132</td>\n",
       "      <td>0.0</td>\n",
       "      <td>NaN</td>\n",
       "    </tr>\n",
       "    <tr>\n",
       "      <th>3526</th>\n",
       "      <td>tt0046387</td>\n",
       "      <td>The Sword and the Rose</td>\n",
       "      <td>The Sword and the Rose</td>\n",
       "      <td>1953</td>\n",
       "      <td>12/18/53</td>\n",
       "      <td>Adventure, Drama, Family</td>\n",
       "      <td>92</td>\n",
       "      <td>UK</td>\n",
       "      <td>English</td>\n",
       "      <td>Ken Annakin</td>\n",
       "      <td>Lawrence Edward Watkin, Charles Major</td>\n",
       "      <td>Walt Disney Productions</td>\n",
       "      <td>Glynis Johns, Richard Todd, James Robertson Ju...</td>\n",
       "      <td>During the reign of Henry VIII, Mary Tudor see...</td>\n",
       "      <td>6.5</td>\n",
       "      <td>669</td>\n",
       "      <td>NaN</td>\n",
       "      <td>14.0</td>\n",
       "      <td>8.0</td>\n",
       "      <td>64851</td>\n",
       "      <td>Tells the story of Mary Tudor and her troubled...</td>\n",
       "      <td>0.444989</td>\n",
       "      <td>0.0</td>\n",
       "      <td>A Forbidden Love That Threatened Two Kingdoms!</td>\n",
       "    </tr>\n",
       "    <tr>\n",
       "      <th>3528</th>\n",
       "      <td>tt0046436</td>\n",
       "      <td>The Titfield Thunderbolt</td>\n",
       "      <td>The Titfield Thunderbolt</td>\n",
       "      <td>1953</td>\n",
       "      <td>3/30/53</td>\n",
       "      <td>Comedy</td>\n",
       "      <td>84</td>\n",
       "      <td>UK</td>\n",
       "      <td>English</td>\n",
       "      <td>Charles Crichton</td>\n",
       "      <td>T.E.B. Clarke</td>\n",
       "      <td>Ealing Studios</td>\n",
       "      <td>Stanley Holloway, George Relph, Naunton Wayne,...</td>\n",
       "      <td>Volunteers take over their local passenger tra...</td>\n",
       "      <td>7.1</td>\n",
       "      <td>2355</td>\n",
       "      <td>NaN</td>\n",
       "      <td>48.0</td>\n",
       "      <td>16.0</td>\n",
       "      <td>24381</td>\n",
       "      <td>When British Railways announce the closure of ...</td>\n",
       "      <td>2.069436</td>\n",
       "      <td>0.0</td>\n",
       "      <td>NaN</td>\n",
       "    </tr>\n",
       "  </tbody>\n",
       "</table>\n",
       "</div>"
      ],
      "text/plain": [
       "     imdb_title_id                     title            original_title  year  \\\n",
       "3525     tt0045808                 Genevieve                 Genevieve  1953   \n",
       "3526     tt0046387    The Sword and the Rose    The Sword and the Rose  1953   \n",
       "3528     tt0046436  The Titfield Thunderbolt  The Titfield Thunderbolt  1953   \n",
       "\n",
       "     date_published                     genre  duration country language  \\\n",
       "3525        8/14/53                    Comedy        86      UK  English   \n",
       "3526       12/18/53  Adventure, Drama, Family        92      UK  English   \n",
       "3528        3/30/53                    Comedy        84      UK  English   \n",
       "\n",
       "              director                                 writer  \\\n",
       "3525   Henry Cornelius                           William Rose   \n",
       "3526       Ken Annakin  Lawrence Edward Watkin, Charles Major   \n",
       "3528  Charles Crichton                          T.E.B. Clarke   \n",
       "\n",
       "           production_company  \\\n",
       "3525       Sirius Productions   \n",
       "3526  Walt Disney Productions   \n",
       "3528           Ealing Studios   \n",
       "\n",
       "                                                 actors  \\\n",
       "3525  Dinah Sheridan, John Gregson, Kay Kendall, Ken...   \n",
       "3526  Glynis Johns, Richard Todd, James Robertson Ju...   \n",
       "3528  Stanley Holloway, George Relph, Naunton Wayne,...   \n",
       "\n",
       "                                            description  avg_vote  votes  \\\n",
       "3525  It's time for the annual London to Brighton an...       7.1   2578   \n",
       "3526  During the reign of Henry VIII, Mary Tudor see...       6.5    669   \n",
       "3528  Volunteers take over their local passenger tra...       7.1   2355   \n",
       "\n",
       "      metascore  reviews_from_users  reviews_from_critics     id  \\\n",
       "3525        NaN                51.0                  19.0  43346   \n",
       "3526        NaN                14.0                   8.0  64851   \n",
       "3528        NaN                48.0                  16.0  24381   \n",
       "\n",
       "                                               overview  popularity  revenue  \\\n",
       "3525  Two friends driving in the London to Brighton ...    1.152132      0.0   \n",
       "3526  Tells the story of Mary Tudor and her troubled...    0.444989      0.0   \n",
       "3528  When British Railways announce the closure of ...    2.069436      0.0   \n",
       "\n",
       "                                             tagline  \n",
       "3525                                             NaN  \n",
       "3526  A Forbidden Love That Threatened Two Kingdoms!  \n",
       "3528                                             NaN  "
      ]
     },
     "execution_count": 9,
     "metadata": {},
     "output_type": "execute_result"
    }
   ],
   "source": [
    "print('Subset Size:', source.shape[0])\n",
    "source.head(3)"
   ]
  },
  {
   "cell_type": "markdown",
   "metadata": {},
   "source": [
    "### Data Processing"
   ]
  },
  {
   "cell_type": "code",
   "execution_count": 10,
   "metadata": {},
   "outputs": [],
   "source": [
    "# Delete spaces in names to make names more unique\n",
    "# eg. 'firstname lastname' -> 'firstnamelastname'\n",
    "column_with_names = ['director', 'writer', 'production_company', 'actors']\n",
    "source = source.copy()\n",
    "for col in column_with_names:\n",
    "    source[str(col)] = source[str(col)].str.replace(' ', '', regex=True)\n",
    "    source[str(col)] = source[str(col)].str.replace(',', ' ', regex=True)"
   ]
  },
  {
   "cell_type": "markdown",
   "metadata": {},
   "source": [
    "### Compute TFIDF"
   ]
  },
  {
   "cell_type": "code",
   "execution_count": 11,
   "metadata": {},
   "outputs": [],
   "source": [
    "# Suggestion: remove the spaces for the names, to solving clustering ambiguity\n",
    "# Issue: how to deal with numbers ???\n",
    "columns = ['country', 'director','writer', \n",
    "           'production_company', 'actors',\n",
    "           'description','overview', 'tagline']"
   ]
  },
  {
   "cell_type": "code",
   "execution_count": 12,
   "metadata": {},
   "outputs": [],
   "source": [
    "# Converts the source dataframe into single string for tfidf computation\n",
    "df = {}\n",
    "movies = []\n",
    "titles = []\n",
    "imdbid = []\n",
    "for i in range(source.shape[0]):\n",
    "    row = source.iloc[i]\n",
    "    row_str = ''\n",
    "    titles.append(row['title'])\n",
    "    imdbid.append(row['imdb_title_id'])\n",
    "    for column in columns:\n",
    "        row_str += str(row[column])\n",
    "        row_str += ' '\n",
    "    movies.append(row_str)\n",
    "\n",
    "df['IMDBid'] = imdbid\n",
    "df['Title'] = titles\n",
    "df['Content'] = movies\n",
    "df = pd.DataFrame(df)"
   ]
  },
  {
   "cell_type": "code",
   "execution_count": 13,
   "metadata": {},
   "outputs": [
    {
     "data": {
      "text/html": [
       "<div>\n",
       "<style scoped>\n",
       "    .dataframe tbody tr th:only-of-type {\n",
       "        vertical-align: middle;\n",
       "    }\n",
       "\n",
       "    .dataframe tbody tr th {\n",
       "        vertical-align: top;\n",
       "    }\n",
       "\n",
       "    .dataframe thead th {\n",
       "        text-align: right;\n",
       "    }\n",
       "</style>\n",
       "<table border=\"1\" class=\"dataframe\">\n",
       "  <thead>\n",
       "    <tr style=\"text-align: right;\">\n",
       "      <th></th>\n",
       "      <th>IMDBid</th>\n",
       "      <th>Title</th>\n",
       "      <th>Content</th>\n",
       "    </tr>\n",
       "  </thead>\n",
       "  <tbody>\n",
       "    <tr>\n",
       "      <th>0</th>\n",
       "      <td>tt0045808</td>\n",
       "      <td>Genevieve</td>\n",
       "      <td>UK HenryCornelius WilliamRose SiriusProduction...</td>\n",
       "    </tr>\n",
       "    <tr>\n",
       "      <th>1</th>\n",
       "      <td>tt0046387</td>\n",
       "      <td>The Sword and the Rose</td>\n",
       "      <td>UK KenAnnakin LawrenceEdwardWatkin CharlesMajo...</td>\n",
       "    </tr>\n",
       "    <tr>\n",
       "      <th>2</th>\n",
       "      <td>tt0046436</td>\n",
       "      <td>The Titfield Thunderbolt</td>\n",
       "      <td>UK CharlesCrichton T.E.B.Clarke EalingStudios ...</td>\n",
       "    </tr>\n",
       "    <tr>\n",
       "      <th>3</th>\n",
       "      <td>tt0046307</td>\n",
       "      <td>Rough Shoot</td>\n",
       "      <td>UK RobertParrish GeoffreyHousehold EricAmbler ...</td>\n",
       "    </tr>\n",
       "    <tr>\n",
       "      <th>4</th>\n",
       "      <td>tt0046286</td>\n",
       "      <td>Sea Devils</td>\n",
       "      <td>UK RaoulWalsh BordenChase CoronadoProductions ...</td>\n",
       "    </tr>\n",
       "  </tbody>\n",
       "</table>\n",
       "</div>"
      ],
      "text/plain": [
       "      IMDBid                     Title  \\\n",
       "0  tt0045808                 Genevieve   \n",
       "1  tt0046387    The Sword and the Rose   \n",
       "2  tt0046436  The Titfield Thunderbolt   \n",
       "3  tt0046307               Rough Shoot   \n",
       "4  tt0046286                Sea Devils   \n",
       "\n",
       "                                             Content  \n",
       "0  UK HenryCornelius WilliamRose SiriusProduction...  \n",
       "1  UK KenAnnakin LawrenceEdwardWatkin CharlesMajo...  \n",
       "2  UK CharlesCrichton T.E.B.Clarke EalingStudios ...  \n",
       "3  UK RobertParrish GeoffreyHousehold EricAmbler ...  \n",
       "4  UK RaoulWalsh BordenChase CoronadoProductions ...  "
      ]
     },
     "execution_count": 13,
     "metadata": {},
     "output_type": "execute_result"
    }
   ],
   "source": [
    "df.head()"
   ]
  },
  {
   "cell_type": "code",
   "execution_count": 14,
   "metadata": {},
   "outputs": [
    {
     "name": "stdout",
     "output_type": "stream",
     "text": [
      "X shape: (11610, 146793)\n"
     ]
    }
   ],
   "source": [
    "# Tranform to tfidf space\n",
    "V = TfidfVectorizer()\n",
    "X = V.fit_transform(df['Content'])\n",
    "print('X shape:', X.shape)"
   ]
  },
  {
   "cell_type": "markdown",
   "metadata": {},
   "source": [
    "### Compute Similarity"
   ]
  },
  {
   "cell_type": "code",
   "execution_count": 15,
   "metadata": {},
   "outputs": [
    {
     "data": {
      "text/plain": [
       "\"\\n# Dimensionality reduction\\nsvd = TruncatedSVD(n_components=10)\\nX = svd.fit_transform(X)\\nprint('X shape after SVD:', X.shape)\\n\\n\\n# Compute similarity of movie for SVD\\nindex = df[df['Title'] == your_pick].index[0]\\nd1 = X[index]\\nmag_d1 = np.linalg.norm(d1)\\ndist = []\\nfor i in range(X.shape[0]):\\n    row = X[i]\\n    dot_product_xy = np.dot(d1, row)\\n    mag_row = np.linalg.norm(row)\\n    x_time_y = mag_d1 * mag_row\\n    dist.append(dot_product_xy/x_time_y) \\ndist_series = pd.Series(dist)\\ndist_series = dist_series.sort_values(ascending=False)\\ndist_series.iloc[1:6]\\ndist_series = pd.DataFrame(dist_series)\\n\""
      ]
     },
     "execution_count": 15,
     "metadata": {},
     "output_type": "execute_result"
    }
   ],
   "source": [
    "'''\n",
    "# Dimensionality reduction\n",
    "svd = TruncatedSVD(n_components=10)\n",
    "X = svd.fit_transform(X)\n",
    "print('X shape after SVD:', X.shape)\n",
    "\n",
    "\n",
    "# Compute similarity of movie for SVD\n",
    "index = df[df['Title'] == your_pick].index[0]\n",
    "d1 = X[index]\n",
    "mag_d1 = np.linalg.norm(d1)\n",
    "dist = []\n",
    "for i in range(X.shape[0]):\n",
    "    row = X[i]\n",
    "    dot_product_xy = np.dot(d1, row)\n",
    "    mag_row = np.linalg.norm(row)\n",
    "    x_time_y = mag_d1 * mag_row\n",
    "    dist.append(dot_product_xy/x_time_y) \n",
    "dist_series = pd.Series(dist)\n",
    "dist_series = dist_series.sort_values(ascending=False)\n",
    "dist_series.iloc[1:6]\n",
    "dist_series = pd.DataFrame(dist_series)\n",
    "'''"
   ]
  },
  {
   "cell_type": "code",
   "execution_count": 16,
   "metadata": {},
   "outputs": [],
   "source": [
    "# Compute similarity of movie: Melvin and Howard\n",
    "index = df[df['Title'] == your_pick].index[0]\n",
    "d1 = list(csr_matrix.toarray(X[index]))\n",
    "mag_d1 = np.linalg.norm(d1)\n",
    "dist = []\n",
    "for i in range(X.shape[0]):\n",
    "    row = list(csr_matrix.toarray(X[i]))\n",
    "    dot_product_xy = np.multiply(d1, row).sum(1)\n",
    "    mag_row = np.linalg.norm(row)\n",
    "    x_time_y = mag_d1 * mag_row\n",
    "    dist.append(dot_product_xy/x_time_y) \n",
    "dist_series = pd.Series(dist)\n",
    "dist_series = dist_series.sort_values(ascending=False)\n",
    "dist_series.iloc[1:6]\n",
    "dist_series = pd.DataFrame(dist_series)"
   ]
  },
  {
   "cell_type": "markdown",
   "metadata": {},
   "source": [
    "### Recommend Top 5 Movies"
   ]
  },
  {
   "cell_type": "code",
   "execution_count": 17,
   "metadata": {},
   "outputs": [],
   "source": [
    "# Merge similarity scores with original dataframe to visualize\n",
    "result = pd.merge(dist_series, df, how='inner', left_index=True, right_index=True)\n",
    "result = result.rename({0: 'Cosine Similarity Score'}, axis='columns')"
   ]
  },
  {
   "cell_type": "code",
   "execution_count": 18,
   "metadata": {},
   "outputs": [
    {
     "data": {
      "text/html": [
       "<div>\n",
       "<style scoped>\n",
       "    .dataframe tbody tr th:only-of-type {\n",
       "        vertical-align: middle;\n",
       "    }\n",
       "\n",
       "    .dataframe tbody tr th {\n",
       "        vertical-align: top;\n",
       "    }\n",
       "\n",
       "    .dataframe thead th {\n",
       "        text-align: right;\n",
       "    }\n",
       "</style>\n",
       "<table border=\"1\" class=\"dataframe\">\n",
       "  <thead>\n",
       "    <tr style=\"text-align: right;\">\n",
       "      <th></th>\n",
       "      <th>Cosine Similarity Score</th>\n",
       "      <th>IMDBid</th>\n",
       "      <th>Title</th>\n",
       "      <th>Content</th>\n",
       "    </tr>\n",
       "  </thead>\n",
       "  <tbody>\n",
       "    <tr>\n",
       "      <th>2965</th>\n",
       "      <td>[1.0000000000000002]</td>\n",
       "      <td>tt0085995</td>\n",
       "      <td>National Lampoon's Vacation</td>\n",
       "      <td>USA HaroldRamis JohnHughes JohnHughes WarnerBr...</td>\n",
       "    </tr>\n",
       "    <tr>\n",
       "      <th>4023</th>\n",
       "      <td>[0.23926701067907094]</td>\n",
       "      <td>tt0097958</td>\n",
       "      <td>National Lampoon's Christmas Vacation</td>\n",
       "      <td>USA JeremiahS.Chechik JohnHughes WarnerBros. C...</td>\n",
       "    </tr>\n",
       "    <tr>\n",
       "      <th>5548</th>\n",
       "      <td>[0.1860146536597548]</td>\n",
       "      <td>tt0120434</td>\n",
       "      <td>Vegas Vacation</td>\n",
       "      <td>USA StephenKessler ElisaBell BobDucsay WarnerB...</td>\n",
       "    </tr>\n",
       "    <tr>\n",
       "      <th>3307</th>\n",
       "      <td>[0.15279257267950555]</td>\n",
       "      <td>tt0089670</td>\n",
       "      <td>National Lampoon's European Vacation</td>\n",
       "      <td>USA AmyHeckerling JohnHughes RobertKlane Warne...</td>\n",
       "    </tr>\n",
       "    <tr>\n",
       "      <th>4660</th>\n",
       "      <td>[0.14477408723062454]</td>\n",
       "      <td>tt0107290</td>\n",
       "      <td>Jurassic Park</td>\n",
       "      <td>USA StevenSpielberg MichaelCrichton MichaelCri...</td>\n",
       "    </tr>\n",
       "    <tr>\n",
       "      <th>4180</th>\n",
       "      <td>[0.1159607089009845]</td>\n",
       "      <td>tt0099785</td>\n",
       "      <td>Home Alone</td>\n",
       "      <td>USA ChrisColumbus JohnHughes HughesEntertainme...</td>\n",
       "    </tr>\n",
       "  </tbody>\n",
       "</table>\n",
       "</div>"
      ],
      "text/plain": [
       "     Cosine Similarity Score     IMDBid  \\\n",
       "2965    [1.0000000000000002]  tt0085995   \n",
       "4023   [0.23926701067907094]  tt0097958   \n",
       "5548    [0.1860146536597548]  tt0120434   \n",
       "3307   [0.15279257267950555]  tt0089670   \n",
       "4660   [0.14477408723062454]  tt0107290   \n",
       "4180    [0.1159607089009845]  tt0099785   \n",
       "\n",
       "                                      Title  \\\n",
       "2965            National Lampoon's Vacation   \n",
       "4023  National Lampoon's Christmas Vacation   \n",
       "5548                         Vegas Vacation   \n",
       "3307   National Lampoon's European Vacation   \n",
       "4660                          Jurassic Park   \n",
       "4180                             Home Alone   \n",
       "\n",
       "                                                Content  \n",
       "2965  USA HaroldRamis JohnHughes JohnHughes WarnerBr...  \n",
       "4023  USA JeremiahS.Chechik JohnHughes WarnerBros. C...  \n",
       "5548  USA StephenKessler ElisaBell BobDucsay WarnerB...  \n",
       "3307  USA AmyHeckerling JohnHughes RobertKlane Warne...  \n",
       "4660  USA StevenSpielberg MichaelCrichton MichaelCri...  \n",
       "4180  USA ChrisColumbus JohnHughes HughesEntertainme...  "
      ]
     },
     "execution_count": 18,
     "metadata": {},
     "output_type": "execute_result"
    }
   ],
   "source": [
    "# Show closest results\n",
    "result.head(6)"
   ]
  },
  {
   "cell_type": "markdown",
   "metadata": {},
   "source": [
    "### Some Ideas for Future"
   ]
  },
  {
   "cell_type": "code",
   "execution_count": 19,
   "metadata": {},
   "outputs": [],
   "source": [
    "# make a window of year range\n",
    "# take the difference between year to see the closest\n",
    "# make it fast: compute the tfidf once per day, put in cache\n",
    "# Use PCA to speed up cosine similarity computation"
   ]
  }
 ],
 "metadata": {
  "kernelspec": {
   "display_name": "Python 3",
   "language": "python",
   "name": "python3"
  },
  "language_info": {
   "codemirror_mode": {
    "name": "ipython",
    "version": 3
   },
   "file_extension": ".py",
   "mimetype": "text/x-python",
   "name": "python",
   "nbconvert_exporter": "python",
   "pygments_lexer": "ipython3",
   "version": "3.7.4"
  }
 },
 "nbformat": 4,
 "nbformat_minor": 4
}
