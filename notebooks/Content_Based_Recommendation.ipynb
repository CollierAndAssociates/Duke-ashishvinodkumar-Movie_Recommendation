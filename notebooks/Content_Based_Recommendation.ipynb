{
 "cells": [
  {
   "cell_type": "markdown",
   "metadata": {},
   "source": [
    "# Content Based Movie Recommendation"
   ]
  },
  {
   "cell_type": "code",
   "execution_count": 35,
   "metadata": {},
   "outputs": [],
   "source": [
    "import numpy as np\n",
    "import pandas as pd\n",
    "import re\n",
    "pd.set_option('display.max_columns', None)\n",
    "from sklearn.feature_extraction.text import TfidfVectorizer\n",
    "from sklearn.decomposition import PCA\n",
    "from sklearn import metrics\n",
    "from scipy.sparse import csr_matrix"
   ]
  },
  {
   "cell_type": "markdown",
   "metadata": {},
   "source": [
    "### Import Dataset"
   ]
  },
  {
   "cell_type": "code",
   "execution_count": 36,
   "metadata": {},
   "outputs": [],
   "source": [
    "# Import movie dataset (combined metadata), subset the data to 10k rows for computational conviencies\n",
    "whole_df = pd.read_csv('combined_metadata_table.csv')"
   ]
  },
  {
   "cell_type": "markdown",
   "metadata": {},
   "source": [
    "### Pick A Movie (Fake Search Engine)"
   ]
  },
  {
   "cell_type": "code",
   "execution_count": 37,
   "metadata": {},
   "outputs": [],
   "source": [
    "def identify_movie(your_pick, whole_df):\n",
    "    return whole_df[whole_df['title'].str.contains(your_pick, flags=re.IGNORECASE, regex=True)]"
   ]
  },
  {
   "cell_type": "code",
   "execution_count": 38,
   "metadata": {},
   "outputs": [
    {
     "data": {
      "text/html": [
       "<div>\n",
       "<style scoped>\n",
       "    .dataframe tbody tr th:only-of-type {\n",
       "        vertical-align: middle;\n",
       "    }\n",
       "\n",
       "    .dataframe tbody tr th {\n",
       "        vertical-align: top;\n",
       "    }\n",
       "\n",
       "    .dataframe thead th {\n",
       "        text-align: right;\n",
       "    }\n",
       "</style>\n",
       "<table border=\"1\" class=\"dataframe\">\n",
       "  <thead>\n",
       "    <tr style=\"text-align: right;\">\n",
       "      <th></th>\n",
       "      <th>imdb_title_id</th>\n",
       "      <th>title</th>\n",
       "      <th>original_title</th>\n",
       "      <th>year</th>\n",
       "      <th>date_published</th>\n",
       "      <th>genre</th>\n",
       "      <th>duration</th>\n",
       "      <th>country</th>\n",
       "      <th>language</th>\n",
       "      <th>director</th>\n",
       "      <th>writer</th>\n",
       "      <th>production_company</th>\n",
       "      <th>actors</th>\n",
       "      <th>description</th>\n",
       "      <th>avg_vote</th>\n",
       "      <th>votes</th>\n",
       "      <th>metascore</th>\n",
       "      <th>reviews_from_users</th>\n",
       "      <th>reviews_from_critics</th>\n",
       "      <th>id</th>\n",
       "      <th>overview</th>\n",
       "      <th>popularity</th>\n",
       "      <th>revenue</th>\n",
       "      <th>tagline</th>\n",
       "    </tr>\n",
       "  </thead>\n",
       "  <tbody>\n",
       "    <tr>\n",
       "      <th>15078</th>\n",
       "      <td>tt0113497</td>\n",
       "      <td>Jumanji</td>\n",
       "      <td>Jumanji</td>\n",
       "      <td>1995</td>\n",
       "      <td>2/16/96</td>\n",
       "      <td>Adventure, Comedy, Family</td>\n",
       "      <td>104</td>\n",
       "      <td>USA</td>\n",
       "      <td>English, French</td>\n",
       "      <td>Joe Johnston</td>\n",
       "      <td>Jonathan Hensleigh, Greg Taylor</td>\n",
       "      <td>TriStar Pictures</td>\n",
       "      <td>Robin Williams, Jonathan Hyde, Kirsten Dunst, ...</td>\n",
       "      <td>When two kids find and play a magical board ga...</td>\n",
       "      <td>7.0</td>\n",
       "      <td>278445</td>\n",
       "      <td>39.0</td>\n",
       "      <td>220.0</td>\n",
       "      <td>101.0</td>\n",
       "      <td>8844</td>\n",
       "      <td>When siblings Judy and Peter discover an encha...</td>\n",
       "      <td>17.015539</td>\n",
       "      <td>262797249.0</td>\n",
       "      <td>Roll the dice and unleash the excitement!</td>\n",
       "    </tr>\n",
       "  </tbody>\n",
       "</table>\n",
       "</div>"
      ],
      "text/plain": [
       "      imdb_title_id    title original_title  year date_published  \\\n",
       "15078     tt0113497  Jumanji        Jumanji  1995        2/16/96   \n",
       "\n",
       "                           genre  duration country         language  \\\n",
       "15078  Adventure, Comedy, Family       104     USA  English, French   \n",
       "\n",
       "           director                           writer production_company  \\\n",
       "15078  Joe Johnston  Jonathan Hensleigh, Greg Taylor   TriStar Pictures   \n",
       "\n",
       "                                                  actors  \\\n",
       "15078  Robin Williams, Jonathan Hyde, Kirsten Dunst, ...   \n",
       "\n",
       "                                             description  avg_vote   votes  \\\n",
       "15078  When two kids find and play a magical board ga...       7.0  278445   \n",
       "\n",
       "       metascore  reviews_from_users  reviews_from_critics    id  \\\n",
       "15078       39.0               220.0                 101.0  8844   \n",
       "\n",
       "                                                overview  popularity  \\\n",
       "15078  When siblings Judy and Peter discover an encha...   17.015539   \n",
       "\n",
       "           revenue                                    tagline  \n",
       "15078  262797249.0  Roll the dice and unleash the excitement!  "
      ]
     },
     "execution_count": 38,
     "metadata": {},
     "output_type": "execute_result"
    }
   ],
   "source": [
    "your_pick = 'Jumanji'\n",
    "identify_movie(your_pick, whole_df)"
   ]
  },
  {
   "cell_type": "markdown",
   "metadata": {},
   "source": [
    "### Subset Dataset"
   ]
  },
  {
   "cell_type": "code",
   "execution_count": 39,
   "metadata": {},
   "outputs": [],
   "source": [
    "def subset_by_genre(your_pick, whole_df):\n",
    "    genres = whole_df[whole_df['title'] == your_pick]['genre']\n",
    "    genres = list(genres)[0].split(', ')\n",
    "    masks = []\n",
    "    for genre in genres:\n",
    "        mask = whole_df['genre'].str.contains(genre)\n",
    "        masks.append(mask)\n",
    "    mask = masks[0]\n",
    "    for i in range(1,len(masks)):\n",
    "        mask = mask | masks[i]\n",
    "    return whole_df[mask]"
   ]
  },
  {
   "cell_type": "code",
   "execution_count": 40,
   "metadata": {},
   "outputs": [],
   "source": [
    "def subset_by_year(your_pick, whole_df, year_range=30):\n",
    "    year = whole_df[whole_df['title'] == your_pick]['year']\n",
    "    year = list(year)[0]\n",
    "    window = [year-year_range, year+year_range]\n",
    "    mask = (whole_df['year'] >= window[0]) & (whole_df['year'] <= window[1])\n",
    "    return whole_df[mask]"
   ]
  },
  {
   "cell_type": "code",
   "execution_count": 41,
   "metadata": {},
   "outputs": [],
   "source": [
    "subset_df = subset_by_genre(your_pick, whole_df)\n",
    "source = subset_by_year(your_pick, subset_df)"
   ]
  },
  {
   "cell_type": "code",
   "execution_count": 42,
   "metadata": {},
   "outputs": [
    {
     "data": {
      "text/html": [
       "<div>\n",
       "<style scoped>\n",
       "    .dataframe tbody tr th:only-of-type {\n",
       "        vertical-align: middle;\n",
       "    }\n",
       "\n",
       "    .dataframe tbody tr th {\n",
       "        vertical-align: top;\n",
       "    }\n",
       "\n",
       "    .dataframe thead th {\n",
       "        text-align: right;\n",
       "    }\n",
       "</style>\n",
       "<table border=\"1\" class=\"dataframe\">\n",
       "  <thead>\n",
       "    <tr style=\"text-align: right;\">\n",
       "      <th></th>\n",
       "      <th>imdb_title_id</th>\n",
       "      <th>title</th>\n",
       "      <th>original_title</th>\n",
       "      <th>year</th>\n",
       "      <th>date_published</th>\n",
       "      <th>genre</th>\n",
       "      <th>duration</th>\n",
       "      <th>country</th>\n",
       "      <th>language</th>\n",
       "      <th>director</th>\n",
       "      <th>writer</th>\n",
       "      <th>production_company</th>\n",
       "      <th>actors</th>\n",
       "      <th>description</th>\n",
       "      <th>avg_vote</th>\n",
       "      <th>votes</th>\n",
       "      <th>metascore</th>\n",
       "      <th>reviews_from_users</th>\n",
       "      <th>reviews_from_critics</th>\n",
       "      <th>id</th>\n",
       "      <th>overview</th>\n",
       "      <th>popularity</th>\n",
       "      <th>revenue</th>\n",
       "      <th>tagline</th>\n",
       "    </tr>\n",
       "  </thead>\n",
       "  <tbody>\n",
       "    <tr>\n",
       "      <th>5889</th>\n",
       "      <td>tt0059126</td>\n",
       "      <td>Dr. Who and the Daleks</td>\n",
       "      <td>Dr. Who and the Daleks</td>\n",
       "      <td>1965</td>\n",
       "      <td>8/23/65</td>\n",
       "      <td>Adventure, Family, Sci-Fi</td>\n",
       "      <td>82</td>\n",
       "      <td>UK</td>\n",
       "      <td>English</td>\n",
       "      <td>Gordon Flemyng</td>\n",
       "      <td>Terry Nation, Milton Subotsky</td>\n",
       "      <td>AARU Productions</td>\n",
       "      <td>Peter Cushing, Roy Castle, Jennie Linden, Robe...</td>\n",
       "      <td>An eccentric inventor and his companions trave...</td>\n",
       "      <td>5.8</td>\n",
       "      <td>3497</td>\n",
       "      <td>NaN</td>\n",
       "      <td>63.0</td>\n",
       "      <td>36.0</td>\n",
       "      <td>26581</td>\n",
       "      <td>Scientist Doctor Who accidentally activates hi...</td>\n",
       "      <td>2.187942</td>\n",
       "      <td>0.0</td>\n",
       "      <td>Now on the Big Screen in COLOUR!</td>\n",
       "    </tr>\n",
       "    <tr>\n",
       "      <th>5891</th>\n",
       "      <td>tt0059269</td>\n",
       "      <td>A High Wind in Jamaica</td>\n",
       "      <td>A High Wind in Jamaica</td>\n",
       "      <td>1965</td>\n",
       "      <td>6/4/65</td>\n",
       "      <td>Adventure, Drama</td>\n",
       "      <td>103</td>\n",
       "      <td>UK</td>\n",
       "      <td>English, Spanish</td>\n",
       "      <td>Alexander Mackendrick</td>\n",
       "      <td>Stanley Mann, Ronald Harwood</td>\n",
       "      <td>Twentieth Century-Fox Productions</td>\n",
       "      <td>Anthony Quinn, James Coburn, Dennis Price, Lil...</td>\n",
       "      <td>In 1870, a Jamaican colonial family sends its ...</td>\n",
       "      <td>6.6</td>\n",
       "      <td>1716</td>\n",
       "      <td>NaN</td>\n",
       "      <td>31.0</td>\n",
       "      <td>18.0</td>\n",
       "      <td>38340</td>\n",
       "      <td>In 1870, a Jamaican colonial family sends its ...</td>\n",
       "      <td>1.235903</td>\n",
       "      <td>0.0</td>\n",
       "      <td>NaN</td>\n",
       "    </tr>\n",
       "    <tr>\n",
       "      <th>5892</th>\n",
       "      <td>tt0059014</td>\n",
       "      <td>Carry On Cowboy</td>\n",
       "      <td>Carry On Cowboy</td>\n",
       "      <td>1965</td>\n",
       "      <td>5/27/66</td>\n",
       "      <td>Comedy, Western</td>\n",
       "      <td>93</td>\n",
       "      <td>UK</td>\n",
       "      <td>English</td>\n",
       "      <td>Gerald Thomas</td>\n",
       "      <td>Talbot Rothwell</td>\n",
       "      <td>Peter Rogers Productions</td>\n",
       "      <td>Sidney James, Kenneth Williams, Jim Dale, Char...</td>\n",
       "      <td>Stodge City is in the grip of the Rumpo Kid an...</td>\n",
       "      <td>6.2</td>\n",
       "      <td>2463</td>\n",
       "      <td>NaN</td>\n",
       "      <td>24.0</td>\n",
       "      <td>8.0</td>\n",
       "      <td>5065</td>\n",
       "      <td>Stodge City is in the grip of the Rumpo Kid an...</td>\n",
       "      <td>5.236409</td>\n",
       "      <td>0.0</td>\n",
       "      <td>How the west was lost!</td>\n",
       "    </tr>\n",
       "  </tbody>\n",
       "</table>\n",
       "</div>"
      ],
      "text/plain": [
       "     imdb_title_id                   title          original_title  year  \\\n",
       "5889     tt0059126  Dr. Who and the Daleks  Dr. Who and the Daleks  1965   \n",
       "5891     tt0059269  A High Wind in Jamaica  A High Wind in Jamaica  1965   \n",
       "5892     tt0059014         Carry On Cowboy         Carry On Cowboy  1965   \n",
       "\n",
       "     date_published                      genre  duration country  \\\n",
       "5889        8/23/65  Adventure, Family, Sci-Fi        82      UK   \n",
       "5891         6/4/65           Adventure, Drama       103      UK   \n",
       "5892        5/27/66            Comedy, Western        93      UK   \n",
       "\n",
       "              language               director                         writer  \\\n",
       "5889           English         Gordon Flemyng  Terry Nation, Milton Subotsky   \n",
       "5891  English, Spanish  Alexander Mackendrick   Stanley Mann, Ronald Harwood   \n",
       "5892           English          Gerald Thomas                Talbot Rothwell   \n",
       "\n",
       "                     production_company  \\\n",
       "5889                   AARU Productions   \n",
       "5891  Twentieth Century-Fox Productions   \n",
       "5892           Peter Rogers Productions   \n",
       "\n",
       "                                                 actors  \\\n",
       "5889  Peter Cushing, Roy Castle, Jennie Linden, Robe...   \n",
       "5891  Anthony Quinn, James Coburn, Dennis Price, Lil...   \n",
       "5892  Sidney James, Kenneth Williams, Jim Dale, Char...   \n",
       "\n",
       "                                            description  avg_vote  votes  \\\n",
       "5889  An eccentric inventor and his companions trave...       5.8   3497   \n",
       "5891  In 1870, a Jamaican colonial family sends its ...       6.6   1716   \n",
       "5892  Stodge City is in the grip of the Rumpo Kid an...       6.2   2463   \n",
       "\n",
       "      metascore  reviews_from_users  reviews_from_critics     id  \\\n",
       "5889        NaN                63.0                  36.0  26581   \n",
       "5891        NaN                31.0                  18.0  38340   \n",
       "5892        NaN                24.0                   8.0   5065   \n",
       "\n",
       "                                               overview  popularity  revenue  \\\n",
       "5889  Scientist Doctor Who accidentally activates hi...    2.187942      0.0   \n",
       "5891  In 1870, a Jamaican colonial family sends its ...    1.235903      0.0   \n",
       "5892  Stodge City is in the grip of the Rumpo Kid an...    5.236409      0.0   \n",
       "\n",
       "                               tagline  \n",
       "5889  Now on the Big Screen in COLOUR!  \n",
       "5891                               NaN  \n",
       "5892            How the west was lost!  "
      ]
     },
     "execution_count": 42,
     "metadata": {},
     "output_type": "execute_result"
    }
   ],
   "source": [
    "source.head(3)"
   ]
  },
  {
   "cell_type": "markdown",
   "metadata": {},
   "source": [
    "### Data Processing"
   ]
  },
  {
   "cell_type": "code",
   "execution_count": 43,
   "metadata": {},
   "outputs": [],
   "source": [
    "# Delete spaces in names to make names more unique\n",
    "# eg. 'firstname lastname' -> 'firstnamelastname'\n",
    "column_with_names = ['director', 'writer', 'production_company', 'actors']\n",
    "source = source.copy()\n",
    "for col in column_with_names:\n",
    "    source[str(col)] = source[str(col)].str.replace(' ', '', regex=True)\n",
    "    source[str(col)] = source[str(col)].str.replace(',', ' ', regex=True)"
   ]
  },
  {
   "cell_type": "markdown",
   "metadata": {},
   "source": [
    "### Compute TFIDF"
   ]
  },
  {
   "cell_type": "code",
   "execution_count": 44,
   "metadata": {},
   "outputs": [],
   "source": [
    "# Suggestion: remove the spaces for the names, to solving clustering ambiguity\n",
    "# Issue: how to deal with numbers ???\n",
    "columns = ['country', 'language', 'director',\n",
    "          'writer', 'production_company', 'actors', 'description',\n",
    "          'overview', 'tagline']"
   ]
  },
  {
   "cell_type": "code",
   "execution_count": 45,
   "metadata": {},
   "outputs": [],
   "source": [
    "# Converts the source dataframe into single string for tfidf computation\n",
    "df = {}\n",
    "movies = []\n",
    "titles = []\n",
    "imdbid = []\n",
    "for i in range(source.shape[0]):\n",
    "    row = source.iloc[i]\n",
    "    row_str = ''\n",
    "    titles.append(row['title'])\n",
    "    imdbid.append(row['imdb_title_id'])\n",
    "    for column in columns:\n",
    "        row_str += str(row[column])\n",
    "        row_str += ' '\n",
    "    movies.append(row_str)\n",
    "\n",
    "df['IMDBid'] = imdbid\n",
    "df['Title'] = titles\n",
    "df['Content'] = movies\n",
    "df = pd.DataFrame(df)"
   ]
  },
  {
   "cell_type": "code",
   "execution_count": 46,
   "metadata": {},
   "outputs": [
    {
     "data": {
      "text/html": [
       "<div>\n",
       "<style scoped>\n",
       "    .dataframe tbody tr th:only-of-type {\n",
       "        vertical-align: middle;\n",
       "    }\n",
       "\n",
       "    .dataframe tbody tr th {\n",
       "        vertical-align: top;\n",
       "    }\n",
       "\n",
       "    .dataframe thead th {\n",
       "        text-align: right;\n",
       "    }\n",
       "</style>\n",
       "<table border=\"1\" class=\"dataframe\">\n",
       "  <thead>\n",
       "    <tr style=\"text-align: right;\">\n",
       "      <th></th>\n",
       "      <th>IMDBid</th>\n",
       "      <th>Title</th>\n",
       "      <th>Content</th>\n",
       "    </tr>\n",
       "  </thead>\n",
       "  <tbody>\n",
       "    <tr>\n",
       "      <th>0</th>\n",
       "      <td>tt0059126</td>\n",
       "      <td>Dr. Who and the Daleks</td>\n",
       "      <td>UK English GordonFlemyng TerryNation MiltonSub...</td>\n",
       "    </tr>\n",
       "    <tr>\n",
       "      <th>1</th>\n",
       "      <td>tt0059269</td>\n",
       "      <td>A High Wind in Jamaica</td>\n",
       "      <td>UK English, Spanish AlexanderMackendrick Stanl...</td>\n",
       "    </tr>\n",
       "    <tr>\n",
       "      <th>2</th>\n",
       "      <td>tt0059014</td>\n",
       "      <td>Carry On Cowboy</td>\n",
       "      <td>UK English GeraldThomas TalbotRothwell PeterRo...</td>\n",
       "    </tr>\n",
       "    <tr>\n",
       "      <th>3</th>\n",
       "      <td>tt0059800</td>\n",
       "      <td>Thunderball</td>\n",
       "      <td>UK English, French TerenceYoung RichardMaibaum...</td>\n",
       "    </tr>\n",
       "    <tr>\n",
       "      <th>4</th>\n",
       "      <td>tt0059362</td>\n",
       "      <td>The Knack ...and How to Get It</td>\n",
       "      <td>UK English RichardLester CharlesWood AnnJellic...</td>\n",
       "    </tr>\n",
       "  </tbody>\n",
       "</table>\n",
       "</div>"
      ],
      "text/plain": [
       "      IMDBid                           Title  \\\n",
       "0  tt0059126          Dr. Who and the Daleks   \n",
       "1  tt0059269          A High Wind in Jamaica   \n",
       "2  tt0059014                 Carry On Cowboy   \n",
       "3  tt0059800                     Thunderball   \n",
       "4  tt0059362  The Knack ...and How to Get It   \n",
       "\n",
       "                                             Content  \n",
       "0  UK English GordonFlemyng TerryNation MiltonSub...  \n",
       "1  UK English, Spanish AlexanderMackendrick Stanl...  \n",
       "2  UK English GeraldThomas TalbotRothwell PeterRo...  \n",
       "3  UK English, French TerenceYoung RichardMaibaum...  \n",
       "4  UK English RichardLester CharlesWood AnnJellic...  "
      ]
     },
     "execution_count": 46,
     "metadata": {},
     "output_type": "execute_result"
    }
   ],
   "source": [
    "df.head()"
   ]
  },
  {
   "cell_type": "code",
   "execution_count": 47,
   "metadata": {},
   "outputs": [],
   "source": [
    "# Tranform to tfidf space\n",
    "V = TfidfVectorizer()\n",
    "X = V.fit_transform(df['Content'])"
   ]
  },
  {
   "cell_type": "markdown",
   "metadata": {},
   "source": [
    "### Compute Similarity"
   ]
  },
  {
   "cell_type": "code",
   "execution_count": 48,
   "metadata": {},
   "outputs": [],
   "source": [
    "# Compute similarity of movie: Melvin and Howard\n",
    "index = df[df['Title'] == your_pick].index[0]\n",
    "d1 = list(csr_matrix.toarray(X[index]))\n",
    "mag_d1 = np.linalg.norm(d1)\n",
    "dist = []\n",
    "for i in range(X.shape[0]):\n",
    "    row = list(csr_matrix.toarray(X[i]))\n",
    "    dot_product_xy = np.multiply(d1, row).sum(1)\n",
    "    mag_row = np.linalg.norm(row)\n",
    "    x_time_y = mag_d1 * mag_row\n",
    "    dist.append(dot_product_xy/x_time_y) \n",
    "dist_series = pd.Series(dist)\n",
    "dist_series = dist_series.sort_values(ascending=False)\n",
    "dist_series.iloc[1:6]\n",
    "dist_series = pd.DataFrame(dist_series)"
   ]
  },
  {
   "cell_type": "markdown",
   "metadata": {},
   "source": [
    "### Recommend Top 5 Movies"
   ]
  },
  {
   "cell_type": "code",
   "execution_count": 49,
   "metadata": {},
   "outputs": [],
   "source": [
    "# Merge similarity scores with original dataframe to visualize\n",
    "result = pd.merge(dist_series, df, how='inner', left_index=True, right_index=True)"
   ]
  },
  {
   "cell_type": "code",
   "execution_count": 50,
   "metadata": {},
   "outputs": [
    {
     "data": {
      "text/html": [
       "<div>\n",
       "<style scoped>\n",
       "    .dataframe tbody tr th:only-of-type {\n",
       "        vertical-align: middle;\n",
       "    }\n",
       "\n",
       "    .dataframe tbody tr th {\n",
       "        vertical-align: top;\n",
       "    }\n",
       "\n",
       "    .dataframe thead th {\n",
       "        text-align: right;\n",
       "    }\n",
       "</style>\n",
       "<table border=\"1\" class=\"dataframe\">\n",
       "  <thead>\n",
       "    <tr style=\"text-align: right;\">\n",
       "      <th></th>\n",
       "      <th>0</th>\n",
       "      <th>IMDBid</th>\n",
       "      <th>Title</th>\n",
       "      <th>Content</th>\n",
       "    </tr>\n",
       "  </thead>\n",
       "  <tbody>\n",
       "    <tr>\n",
       "      <th>4270</th>\n",
       "      <td>[1.0]</td>\n",
       "      <td>tt0113497</td>\n",
       "      <td>Jumanji</td>\n",
       "      <td>USA English, French JoeJohnston JonathanHensle...</td>\n",
       "    </tr>\n",
       "    <tr>\n",
       "      <th>10702</th>\n",
       "      <td>[0.2273118975939273]</td>\n",
       "      <td>tt2229842</td>\n",
       "      <td>Table No.21</td>\n",
       "      <td>India Hindi AdityaDatt SheershakAnand Shantanu...</td>\n",
       "    </tr>\n",
       "    <tr>\n",
       "      <th>7043</th>\n",
       "      <td>[0.1652077041341472]</td>\n",
       "      <td>tt0406375</td>\n",
       "      <td>Zathura: A Space Adventure</td>\n",
       "      <td>USA English JonFavreau ChrisVanAllsburg DavidK...</td>\n",
       "    </tr>\n",
       "    <tr>\n",
       "      <th>10028</th>\n",
       "      <td>[0.15808931012590421]</td>\n",
       "      <td>tt1772341</td>\n",
       "      <td>Wreck-It Ralph</td>\n",
       "      <td>USA English RichMoore RichMoore PhilJohnston W...</td>\n",
       "    </tr>\n",
       "    <tr>\n",
       "      <th>4237</th>\n",
       "      <td>[0.15798048398964504]</td>\n",
       "      <td>tt0109327</td>\n",
       "      <td>Brainscan</td>\n",
       "      <td>UK, Canada, USA English JohnFlynn BrianOwens A...</td>\n",
       "    </tr>\n",
       "    <tr>\n",
       "      <th>10548</th>\n",
       "      <td>[0.15278878676723232]</td>\n",
       "      <td>tt2294965</td>\n",
       "      <td>Zero Charisma</td>\n",
       "      <td>USA English KatieGraham AndrewMatthews AndrewM...</td>\n",
       "    </tr>\n",
       "  </tbody>\n",
       "</table>\n",
       "</div>"
      ],
      "text/plain": [
       "                           0     IMDBid                       Title  \\\n",
       "4270                   [1.0]  tt0113497                     Jumanji   \n",
       "10702   [0.2273118975939273]  tt2229842                 Table No.21   \n",
       "7043    [0.1652077041341472]  tt0406375  Zathura: A Space Adventure   \n",
       "10028  [0.15808931012590421]  tt1772341              Wreck-It Ralph   \n",
       "4237   [0.15798048398964504]  tt0109327                   Brainscan   \n",
       "10548  [0.15278878676723232]  tt2294965               Zero Charisma   \n",
       "\n",
       "                                                 Content  \n",
       "4270   USA English, French JoeJohnston JonathanHensle...  \n",
       "10702  India Hindi AdityaDatt SheershakAnand Shantanu...  \n",
       "7043   USA English JonFavreau ChrisVanAllsburg DavidK...  \n",
       "10028  USA English RichMoore RichMoore PhilJohnston W...  \n",
       "4237   UK, Canada, USA English JohnFlynn BrianOwens A...  \n",
       "10548  USA English KatieGraham AndrewMatthews AndrewM...  "
      ]
     },
     "execution_count": 50,
     "metadata": {},
     "output_type": "execute_result"
    }
   ],
   "source": [
    "# Show closest results\n",
    "result.head(6)"
   ]
  },
  {
   "cell_type": "markdown",
   "metadata": {},
   "source": [
    "### Some Ideas for Future"
   ]
  },
  {
   "cell_type": "code",
   "execution_count": 17,
   "metadata": {},
   "outputs": [],
   "source": [
    "# make a window of year range\n",
    "# take the difference between year to see the closest\n",
    "# make it fast: compute the tfidf once per day, put in cache"
   ]
  }
 ],
 "metadata": {
  "kernelspec": {
   "display_name": "Python 3",
   "language": "python",
   "name": "python3"
  },
  "language_info": {
   "codemirror_mode": {
    "name": "ipython",
    "version": 3
   },
   "file_extension": ".py",
   "mimetype": "text/x-python",
   "name": "python",
   "nbconvert_exporter": "python",
   "pygments_lexer": "ipython3",
   "version": "3.7.3"
  }
 },
 "nbformat": 4,
 "nbformat_minor": 4
}
